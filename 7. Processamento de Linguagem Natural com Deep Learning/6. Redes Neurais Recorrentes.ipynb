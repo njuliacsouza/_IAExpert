{
 "cells": [
  {
   "cell_type": "markdown",
   "id": "2d6e46a8",
   "metadata": {},
   "source": [
    "# Redes Neurais Recorrentes (RNNs)\n",
    "\n",
    "---"
   ]
  },
  {
   "cell_type": "markdown",
   "id": "20c922dd",
   "metadata": {},
   "source": [
    "## Estrutura\n",
    "Nova representação da Rede:\n",
    "\n",
    "![estrutura](images/estrutura_rnn.png)\n",
    "- teremos uma retro-alimentação na camada oculta:\n",
    "\n",
    "![estrutura](images/estrutura_rnn2.png)"
   ]
  },
  {
   "cell_type": "markdown",
   "id": "557c3952",
   "metadata": {},
   "source": [
    "## Vanish Gradient Problem\n",
    "\n",
    "### Gradiente\n",
    "![vanish gradient problem](images/vanish.png)\n",
    "\n",
    "### Propagação do erro/peso\n",
    "![propa](images/propagacao.png)\n",
    "\n",
    "- ao multiplicar o peso vai tendo cada vez menos influência\n",
    "![vanish gradient problem](images/vanish2.png)\n",
    "\n",
    "Assim:\n",
    "- $W_{rec} ~ pequeno$ ->> Vanishing\n",
    "- $W_{rec} ~ grande$ ->> Exploding\n",
    "\n",
    "### Solução:\n",
    "- Exploding:\n",
    "    - Truncated backpropagation\n",
    "    - penalidades\n",
    "    - gradient clipping\n",
    "- vanishing:\n",
    "    - inicialização dos pesos\n",
    "    - echo state networks\n",
    "    - long short-term memory networks\n",
    "    "
   ]
  },
  {
   "cell_type": "markdown",
   "id": "0194c590",
   "metadata": {},
   "source": [
    "## Long short-term memory network (LSTM)\n",
    "\n",
    "- $W_{rec} < 1$ ->> Vanishing\n",
    "- $W_{rec} = 1$ ->> Exploding\n",
    "\n",
    "### Representação\n",
    "\n",
    "![representacao LSTM](images/LSTM.png)\n",
    "\n",
    "- cada celula: \n",
    "\n",
    "![representacao LSTM](images/lstm2.png)"
   ]
  }
 ],
 "metadata": {
  "kernelspec": {
   "display_name": "Python 3",
   "language": "python",
   "name": "python3"
  },
  "language_info": {
   "codemirror_mode": {
    "name": "ipython",
    "version": 3
   },
   "file_extension": ".py",
   "mimetype": "text/x-python",
   "name": "python",
   "nbconvert_exporter": "python",
   "pygments_lexer": "ipython3",
   "version": "3.8.5"
  }
 },
 "nbformat": 4,
 "nbformat_minor": 5
}
