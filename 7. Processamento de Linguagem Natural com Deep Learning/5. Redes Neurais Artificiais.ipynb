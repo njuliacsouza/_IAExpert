{
 "cells": [
  {
   "cell_type": "markdown",
   "id": "8216b9e8",
   "metadata": {},
   "source": [
    "# Redes Neurais Artificiais"
   ]
  },
  {
   "cell_type": "markdown",
   "id": "83ab1b80",
   "metadata": {},
   "source": [
    "## Perceptron de uma camada"
   ]
  },
  {
   "cell_type": "markdown",
   "id": "1cc459be",
   "metadata": {},
   "source": [
    "### Neurônio artificial\n",
    "\n",
    "$$\n",
    "soma = \\sum_{i=1}^{n} x_i * w_i\n",
    "$$\n",
    "\n",
    "![neuronio arti](images/neuronio_artifical.png)\n",
    "\n",
    "**Step function** (*função de ativação*): \n",
    "- maior que zero = 1\n",
    "- caso contrário = 0"
   ]
  },
  {
   "cell_type": "markdown",
   "id": "1378cf35",
   "metadata": {},
   "source": [
    "## Rede multicamada\n",
    "\n",
    "- agora poderemos modelar problemas não linearmente separável\n",
    "$$\n",
    "soma = \\sum_{i=1}^{n} x_i * w_i\n",
    "$$\n",
    "\n",
    "\n",
    "![rede multicamada](images/rede_multi.png)\n",
    "\n",
    "**Função sigmoide** (*função de ativação*):\n",
    "![função sigmoide](images/sigmoide.png)\n"
   ]
  },
  {
   "cell_type": "markdown",
   "id": "cba70a84",
   "metadata": {},
   "source": [
    "## Cálculo do erro\n",
    "\n",
    "**Mais simples**:\n",
    "\n",
    "$$\n",
    "erro = respostaCorreta - respostaCalculada\n",
    "$$"
   ]
  },
  {
   "cell_type": "markdown",
   "id": "b2e22af0",
   "metadata": {},
   "source": [
    "## Descida do gradiente\n",
    "\n",
    "- calcular a derivada parcial para mover para a direção do gradiente\n",
    "    - encontrar a combinação de pesos que o erro é o menor possível\n",
    "    - gradiente é calculado para saber quanto ajustar os pesos"
   ]
  },
  {
   "cell_type": "markdown",
   "id": "7d634d20",
   "metadata": {},
   "source": [
    "## Parâmetro delta\n",
    "\n",
    "![cálculo do parametro delta](images/calculo_delta.png)\n",
    "\n",
    "$$\n",
    "deltaSaida = Erro * DerivadasSigmoide\n",
    "$$\n",
    "\n",
    "$$\n",
    "deltaEscondida = DerivadaSigmoide * peso * DeltaSaida\n",
    "$$"
   ]
  },
  {
   "cell_type": "markdown",
   "id": "90b9b259",
   "metadata": {},
   "source": [
    "## Ajuste dos pesos com Backpropagation\n",
    "\n",
    "![ajuste dos pesos](images/ajuste_pesos.png)"
   ]
  },
  {
   "cell_type": "markdown",
   "id": "3517e8e5",
   "metadata": {},
   "source": [
    "## Bias, erro, descida do gradiente estocástica e outros parâmetros\n",
    "\n",
    "### Bias:\n",
    "\n",
    "![bias](images/bias.png)\n",
    "\n",
    "### Mean square error (MSE) e Root mean square error (RMSE)\n",
    "\n",
    "$$\n",
    "MSE = \\frac{1}{N}\\sum_{i=1}^{N} (f_i - y_i)^2\n",
    "$$\n",
    "\n",
    "$$\n",
    "RMSE = \\sqrt{\\frac{1}{N}\\sum_{i=1}^{N} (f_i - y_i)^2}\n",
    "$$\n",
    "\n",
    "### Batch gradient descent x Stochastic grafient descent\n",
    "\n",
    "**Batch**:\n",
    "- utiliza todos os dados de uma vez para calcular os pesos\n",
    "\n",
    "**Stochastic**:\n",
    "- utiliza um dado de cada vez\n",
    "- ajuda a prevenir os mínimos locais\n",
    "- mais rápido\n",
    "\n",
    "**Mini batch**:\n",
    "- escolhe um número de registros para rodas e atualizar os pesos\n",
    "\n",
    "### Principais parâmetros\n",
    "\n",
    "- Learning Rate\n",
    "- Batch Size\n",
    "- Epochs"
   ]
  },
  {
   "cell_type": "markdown",
   "id": "1cbd510a",
   "metadata": {},
   "source": [
    "# Funções de ativação"
   ]
  },
  {
   "cell_type": "code",
   "execution_count": 1,
   "id": "16dcd8ff",
   "metadata": {},
   "outputs": [],
   "source": [
    "import numpy as np"
   ]
  },
  {
   "cell_type": "code",
   "execution_count": 5,
   "id": "35852d2e",
   "metadata": {},
   "outputs": [],
   "source": [
    "def stepFunction(soma):\n",
    "    if soma>=1:\n",
    "        return 1\n",
    "    return 0\n",
    "\n",
    "def sigmoidFunction(soma):\n",
    "    return 1 / (1 + np.exp(-soma))\n",
    "\n",
    "def tahnFunction(soma): \n",
    "    return (np.exp(soma) - np.exp(-soma)) / (np.exp(soma) + np.exp(-soma))\n",
    "\n",
    "def reluFunction(soma):\n",
    "    if soma>=0:\n",
    "        return soma\n",
    "    return 0\n",
    "\n",
    "def linearFunction(soma):\n",
    "    return soma\n",
    "\n",
    "def softmaxFunction(valores):\n",
    "    return (np.exp(valores)) / np.exp(valores).sum()"
   ]
  },
  {
   "cell_type": "code",
   "execution_count": 8,
   "id": "4c3d20b0",
   "metadata": {},
   "outputs": [],
   "source": [
    "def soma(valores, pesos):\n",
    "    size = len(valores)\n",
    "    return sum([valores[i]*pesos[i] for i in range(size)])"
   ]
  },
  {
   "cell_type": "code",
   "execution_count": 10,
   "id": "827eca9d",
   "metadata": {},
   "outputs": [
    {
     "name": "stdout",
     "output_type": "stream",
     "text": [
      "Soma: 10.3\n"
     ]
    },
    {
     "data": {
      "text/plain": [
       "1"
      ]
     },
     "execution_count": 10,
     "metadata": {},
     "output_type": "execute_result"
    }
   ],
   "source": [
    "teste = [7.0, 2.0, 1.3]\n",
    "pesos = [1, 1, 1]\n",
    "\n",
    "soma = soma(teste, pesos)\n",
    "print('Soma:',soma)\n",
    "stepFunction(soma)"
   ]
  },
  {
   "cell_type": "code",
   "execution_count": 12,
   "id": "de1a9132",
   "metadata": {},
   "outputs": [
    {
     "data": {
      "text/plain": [
       "array([0.99001676, 0.00667068, 0.00331256])"
      ]
     },
     "execution_count": 12,
     "metadata": {},
     "output_type": "execute_result"
    }
   ],
   "source": [
    "softmaxFunction(teste)"
   ]
  }
 ],
 "metadata": {
  "kernelspec": {
   "display_name": "Python 3",
   "language": "python",
   "name": "python3"
  },
  "language_info": {
   "codemirror_mode": {
    "name": "ipython",
    "version": 3
   },
   "file_extension": ".py",
   "mimetype": "text/x-python",
   "name": "python",
   "nbconvert_exporter": "python",
   "pygments_lexer": "ipython3",
   "version": "3.8.5"
  }
 },
 "nbformat": 4,
 "nbformat_minor": 5
}
