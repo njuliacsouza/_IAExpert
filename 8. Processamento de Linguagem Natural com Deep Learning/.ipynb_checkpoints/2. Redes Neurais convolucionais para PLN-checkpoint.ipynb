{
 "cells": [
  {
   "cell_type": "markdown",
   "id": "04933ba4",
   "metadata": {},
   "source": [
    "#  Redes Neurais Convolucionais para PLN\n",
    "\n",
    "\n",
    "![cnn_imagens](cnn_imagens.png)\n",
    "\n",
    "- **Etapa 1:** Convolução - criação de detectores de características\n",
    "- **Etapa 2:** Max Pooling\n",
    "- **Etapa 3:** Flattening\n",
    "- **Etapa 4:** Full Connection (rede neural densa)"
   ]
  },
  {
   "cell_type": "markdown",
   "id": "c99a0ea1",
   "metadata": {},
   "source": [
    "![imagem_e_texto](image_text_rep.png)"
   ]
  },
  {
   "cell_type": "markdown",
   "id": "a6ab0a5f",
   "metadata": {},
   "source": [
    "Assim cada palavra é representada por um vetor."
   ]
  },
  {
   "cell_type": "markdown",
   "id": "360e1e99",
   "metadata": {},
   "source": [
    "## Word embedding\n",
    "\n",
    "- **representação fácil mas não efetiva**: one-hot encoding, sem relação entre as palavras"
   ]
  },
  {
   "cell_type": "markdown",
   "id": "6811fbd9",
   "metadata": {},
   "source": [
    "![one-hot](word_embed.png)"
   ]
  },
  {
   "cell_type": "markdown",
   "id": "bcd99fed",
   "metadata": {},
   "source": [
    "- **word embedding**: vetor menor e leva em consideração a relação entre as palavras"
   ]
  },
  {
   "cell_type": "markdown",
   "id": "d0150f66",
   "metadata": {},
   "source": [
    "![word embedding](word_embed2.png)"
   ]
  }
 ],
 "metadata": {
  "kernelspec": {
   "display_name": "Python 3",
   "language": "python",
   "name": "python3"
  },
  "language_info": {
   "codemirror_mode": {
    "name": "ipython",
    "version": 3
   },
   "file_extension": ".py",
   "mimetype": "text/x-python",
   "name": "python",
   "nbconvert_exporter": "python",
   "pygments_lexer": "ipython3",
   "version": "3.8.5"
  }
 },
 "nbformat": 4,
 "nbformat_minor": 5
}
