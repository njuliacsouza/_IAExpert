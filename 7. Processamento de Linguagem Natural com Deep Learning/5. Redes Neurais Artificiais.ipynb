{
 "cells": [
  {
   "cell_type": "markdown",
   "id": "f936917e",
   "metadata": {},
   "source": [
    "# Redes Neurais Artificiais"
   ]
  },
  {
   "cell_type": "markdown",
   "id": "735e239c",
   "metadata": {},
   "source": [
    "## Perceptron de uma camada"
   ]
  },
  {
   "cell_type": "markdown",
   "id": "f9d3138c",
   "metadata": {},
   "source": [
    "### Neurônio artificial\n",
    "\n",
    "![neuronio arti](images/neuronio_artifical.png)\n",
    "\n",
    "$$\n",
    "soma = \\sum_{i=1}^{n} x_i * w_i\n",
    "$$\n",
    "\n",
    "Step function: \n",
    "- maior que zero = 1\n",
    "- caso contrário = 0"
   ]
  },
  {
   "cell_type": "markdown",
   "id": "870bb6bc",
   "metadata": {},
   "source": [
    "## Rede multicamada\n",
    "\n",
    "- agora poderemos modelar problemas não lineares"
   ]
  }
 ],
 "metadata": {
  "kernelspec": {
   "display_name": "Python 3",
   "language": "python",
   "name": "python3"
  },
  "language_info": {
   "codemirror_mode": {
    "name": "ipython",
    "version": 3
   },
   "file_extension": ".py",
   "mimetype": "text/x-python",
   "name": "python",
   "nbconvert_exporter": "python",
   "pygments_lexer": "ipython3",
   "version": "3.8.5"
  }
 },
 "nbformat": 4,
 "nbformat_minor": 5
}
