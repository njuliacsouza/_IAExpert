{
 "cells": [
  {
   "cell_type": "markdown",
   "id": "b3b59167",
   "metadata": {},
   "source": [
    "# Redes Neurais Artificiais"
   ]
  },
  {
   "cell_type": "markdown",
   "id": "27fea79b",
   "metadata": {},
   "source": [
    "## Perceptron de uma camada"
   ]
  },
  {
   "cell_type": "markdown",
   "id": "c61764b7",
   "metadata": {},
   "source": [
    "### Neurônio artificial\n",
    "\n",
    "![neuronio arti](images/neuronio_artifical.png)\n",
    "\n",
    "$$\n",
    "soma = \\sum_{i=1}^{n} x_i * w_i\n",
    "$$\n",
    "\n",
    "**Step function** (*função de ativação*): \n",
    "- maior que zero = 1\n",
    "- caso contrário = 0"
   ]
  },
  {
   "cell_type": "markdown",
   "id": "4092205c",
   "metadata": {},
   "source": [
    "## Rede multicamada\n",
    "\n",
    "- agora poderemos modelar problemas não linearmente separável\n",
    "\n",
    "![rede multicamada](images/rede_multi.png)\n",
    "**Função sigmoide** (*função de ativação*):\n",
    "![função sigmoide](images/sigmoide.png)\n"
   ]
  }
 ],
 "metadata": {
  "kernelspec": {
   "display_name": "Python 3",
   "language": "python",
   "name": "python3"
  },
  "language_info": {
   "codemirror_mode": {
    "name": "ipython",
    "version": 3
   },
   "file_extension": ".py",
   "mimetype": "text/x-python",
   "name": "python",
   "nbconvert_exporter": "python",
   "pygments_lexer": "ipython3",
   "version": "3.8.5"
  }
 },
 "nbformat": 4,
 "nbformat_minor": 5
}
