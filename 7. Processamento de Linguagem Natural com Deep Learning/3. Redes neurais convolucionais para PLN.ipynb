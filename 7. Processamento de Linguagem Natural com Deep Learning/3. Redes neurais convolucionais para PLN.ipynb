{
 "cells": [
  {
   "cell_type": "markdown",
   "id": "849cf2d2",
   "metadata": {},
   "source": [
    "# Classificação de Sentimentos com Redes Neurais Convolucionais"
   ]
  },
  {
   "cell_type": "markdown",
   "id": "67cbb834",
   "metadata": {},
   "source": [
    "## Importações"
   ]
  },
  {
   "cell_type": "code",
   "execution_count": 16,
   "id": "5b6acd13",
   "metadata": {},
   "outputs": [],
   "source": [
    "import pandas as pd\n",
    "import numpy as np\n",
    "import matplotlib.pyplot as plt\n",
    "import seaborn as sns\n",
    "\n",
    "import spacy as sp\n",
    "import string\n",
    "\n",
    "import random\n",
    "import re\n",
    "import math\n",
    "from bs4 import BeautifulSoup"
   ]
  },
  {
   "cell_type": "code",
   "execution_count": 12,
   "id": "3be3b818",
   "metadata": {},
   "outputs": [
    {
     "data": {
      "text/plain": [
       "'2.4.1'"
      ]
     },
     "execution_count": 12,
     "metadata": {},
     "output_type": "execute_result"
    }
   ],
   "source": [
    "import tensorflow as tf\n",
    "tf.__version__"
   ]
  },
  {
   "cell_type": "code",
   "execution_count": 15,
   "id": "48a64a9f",
   "metadata": {},
   "outputs": [],
   "source": [
    "from tensorflow.keras import layers\n",
    "import tensorflow_datasets as tfds"
   ]
  },
  {
   "cell_type": "markdown",
   "id": "b6e60789",
   "metadata": {},
   "source": [
    "## Preprocessamento dos dados"
   ]
  },
  {
   "cell_type": "code",
   "execution_count": 17,
   "id": "308ecf6d",
   "metadata": {},
   "outputs": [],
   "source": [
    "cols = ['sentiment', 'id', 'date', 'query', 'user', 'text']"
   ]
  },
  {
   "cell_type": "code",
   "execution_count": 20,
   "id": "fc0504bb",
   "metadata": {},
   "outputs": [
    {
     "name": "stdout",
     "output_type": "stream",
     "text": [
      "(498, 6)\n"
     ]
    },
    {
     "data": {
      "text/html": [
       "<div>\n",
       "<style scoped>\n",
       "    .dataframe tbody tr th:only-of-type {\n",
       "        vertical-align: middle;\n",
       "    }\n",
       "\n",
       "    .dataframe tbody tr th {\n",
       "        vertical-align: top;\n",
       "    }\n",
       "\n",
       "    .dataframe thead th {\n",
       "        text-align: right;\n",
       "    }\n",
       "</style>\n",
       "<table border=\"1\" class=\"dataframe\">\n",
       "  <thead>\n",
       "    <tr style=\"text-align: right;\">\n",
       "      <th></th>\n",
       "      <th>sentiment</th>\n",
       "      <th>id</th>\n",
       "      <th>date</th>\n",
       "      <th>query</th>\n",
       "      <th>user</th>\n",
       "      <th>text</th>\n",
       "    </tr>\n",
       "  </thead>\n",
       "  <tbody>\n",
       "    <tr>\n",
       "      <th>90</th>\n",
       "      <td>0</td>\n",
       "      <td>212</td>\n",
       "      <td>Mon May 25 17:23:55 UTC 2009</td>\n",
       "      <td>bailout</td>\n",
       "      <td>funky_old_man</td>\n",
       "      <td>Are YOU burning more cash $$$ than Chrysler an...</td>\n",
       "    </tr>\n",
       "    <tr>\n",
       "      <th>254</th>\n",
       "      <td>4</td>\n",
       "      <td>1019</td>\n",
       "      <td>Mon May 11 05:21:25 UTC 2009</td>\n",
       "      <td>lebron</td>\n",
       "      <td>undefeated310</td>\n",
       "      <td>Watching Lebron highlights. Damn that niggas good</td>\n",
       "    </tr>\n",
       "    <tr>\n",
       "      <th>283</th>\n",
       "      <td>2</td>\n",
       "      <td>2100</td>\n",
       "      <td>Sun May 17 17:30:03 UTC 2009</td>\n",
       "      <td>san francisco</td>\n",
       "      <td>bKnapp</td>\n",
       "      <td>breakers. in San Francisco, CA http://loopt.us...</td>\n",
       "    </tr>\n",
       "    <tr>\n",
       "      <th>443</th>\n",
       "      <td>4</td>\n",
       "      <td>2532</td>\n",
       "      <td>Sun Jun 07 01:13:23 UTC 2009</td>\n",
       "      <td>jquery</td>\n",
       "      <td>ghurson</td>\n",
       "      <td>I'm ready to drop the pretenses, I am forever ...</td>\n",
       "    </tr>\n",
       "    <tr>\n",
       "      <th>336</th>\n",
       "      <td>0</td>\n",
       "      <td>2185</td>\n",
       "      <td>Mon May 25 17:26:30 UTC 2009</td>\n",
       "      <td>insects</td>\n",
       "      <td>euthanasia86</td>\n",
       "      <td>Just got barraged by a horde of insects hungry...</td>\n",
       "    </tr>\n",
       "  </tbody>\n",
       "</table>\n",
       "</div>"
      ],
      "text/plain": [
       "     sentiment    id                          date          query  \\\n",
       "90           0   212  Mon May 25 17:23:55 UTC 2009        bailout   \n",
       "254          4  1019  Mon May 11 05:21:25 UTC 2009         lebron   \n",
       "283          2  2100  Sun May 17 17:30:03 UTC 2009  san francisco   \n",
       "443          4  2532  Sun Jun 07 01:13:23 UTC 2009         jquery   \n",
       "336          0  2185  Mon May 25 17:26:30 UTC 2009        insects   \n",
       "\n",
       "              user                                               text  \n",
       "90   funky_old_man  Are YOU burning more cash $$$ than Chrysler an...  \n",
       "254  undefeated310  Watching Lebron highlights. Damn that niggas good  \n",
       "283         bKnapp  breakers. in San Francisco, CA http://loopt.us...  \n",
       "443        ghurson  I'm ready to drop the pretenses, I am forever ...  \n",
       "336   euthanasia86  Just got barraged by a horde of insects hungry...  "
      ]
     },
     "execution_count": 20,
     "metadata": {},
     "output_type": "execute_result"
    }
   ],
   "source": [
    "test_data = pd.read_csv('../../_IAExpert_private/7. Processamento de Linguagem Natural com Deep LEarning/trainingandtestdata/test.csv', \n",
    "                        header=None, \n",
    "                        names=cols, \n",
    "                        engine=\"python\", \n",
    "                        encoding='latin1')\n",
    "print(test_data.shape)\n",
    "test_data.sample(5, random_state=0)"
   ]
  }
 ],
 "metadata": {
  "kernelspec": {
   "display_name": "Python 3",
   "language": "python",
   "name": "python3"
  },
  "language_info": {
   "codemirror_mode": {
    "name": "ipython",
    "version": 3
   },
   "file_extension": ".py",
   "mimetype": "text/x-python",
   "name": "python",
   "nbconvert_exporter": "python",
   "pygments_lexer": "ipython3",
   "version": "3.8.5"
  }
 },
 "nbformat": 4,
 "nbformat_minor": 5
}
