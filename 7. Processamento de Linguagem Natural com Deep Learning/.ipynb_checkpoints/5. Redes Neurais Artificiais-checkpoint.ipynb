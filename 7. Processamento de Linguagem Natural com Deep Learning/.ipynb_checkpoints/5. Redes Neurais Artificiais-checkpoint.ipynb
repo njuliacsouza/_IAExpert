{
 "cells": [
  {
   "cell_type": "markdown",
   "id": "9ef2b3d3",
   "metadata": {},
   "source": [
    "# Redes Neurais Artificiais"
   ]
  },
  {
   "cell_type": "markdown",
   "id": "8e5501c2",
   "metadata": {},
   "source": [
    "## Perceptron de uma camada"
   ]
  },
  {
   "cell_type": "code",
   "execution_count": null,
   "id": "91c5845d",
   "metadata": {},
   "outputs": [],
   "source": []
  }
 ],
 "metadata": {
  "kernelspec": {
   "display_name": "Python 3",
   "language": "python",
   "name": "python3"
  },
  "language_info": {
   "codemirror_mode": {
    "name": "ipython",
    "version": 3
   },
   "file_extension": ".py",
   "mimetype": "text/x-python",
   "name": "python",
   "nbconvert_exporter": "python",
   "pygments_lexer": "ipython3",
   "version": "3.8.5"
  }
 },
 "nbformat": 4,
 "nbformat_minor": 5
}
