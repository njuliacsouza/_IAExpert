{
 "cells": [
  {
   "cell_type": "markdown",
   "metadata": {},
   "source": [
    "# Introdução para sistemas de recomendação com Python\n",
    "\n",
    "**Curso:** https://iaexpert.academy/topic/introducao-aos-sistemas-de-recomendacao/\n",
    "\n",
    "**Começo:** 2024-12-17"
   ]
  },
  {
   "cell_type": "markdown",
   "metadata": {},
   "source": [
    "## Sistemas de recomendação\n",
    "\n",
    "**Exemplos**: Netfix, TikTok, YouTube, Spotify, Amazon\n",
    "\n",
    "## Tipo de sistemas\n",
    "- Recuperação direta de informação\n",
    "    - Palavra-chave\n",
    "    - \"Os mais vendidos\", \"Os mais clicados\"\n",
    "- Filtragem por conteúdo\n",
    "    - Conteúdo dos items\n",
    "    - Comparação da descrição dos itens\n",
    "- Filtragem colaborativa\n",
    "\n",
    "## Filtragem Colaborativa\n",
    "\n",
    "- Perguntar para amigos: \n",
    "    - ![User-based filetering](img/user-based-filtering.png)\n",
    "- Prever o grau de interesse sobre um item baseado nas avaliações feitas por esse cliente e as avaliações feitas por outros clientes com perfil semelhante\n",
    "- Tafera cooperativa entre um ou mais indivíduos\n",
    "- Troca de experëncias entre perfis comuns\n",
    "\n",
    "\n",
    "## Base de dados - exemplo\n",
    "\n",
    "![Base-de-dados](img/base_de_dados.png)\n",
    "\n",
    "### Passos:\n",
    "1. Calcular a similaridade entre os usuários\n",
    "2. Calcular as recomendações para os filmes não assistidos\n",
    "\n",
    "### Outras escalas\n",
    "![outras-escalas](img/outras_escalas.png)"
   ]
  },
  {
   "cell_type": "markdown",
   "metadata": {},
   "source": [
    "# Conteúdos\n",
    "- Introducao aos Sistemas de Recomendação\n",
    "- Filtragem colaborativa\n",
    "- Busca por usuários similares\n",
    "- Recomendação de filmes (filtragem baseada em usuários)\n",
    "- Recomendação de filmes (filtragem baseada em itens)\n",
    "- Base de dados MovieLens\n",
    "\n",
    "### O que não veremos\n",
    "- Conexão com banco de dados\n",
    "- Interface gráfica\n",
    "- Utilização de bibliotecas para sistemas de recomendação\n"
   ]
  }
 ],
 "metadata": {
  "kernelspec": {
   "display_name": "Python 3",
   "language": "python",
   "name": "python3"
  },
  "language_info": {
   "codemirror_mode": {
    "name": "ipython",
    "version": 3
   },
   "file_extension": ".py",
   "mimetype": "text/x-python",
   "name": "python",
   "nbconvert_exporter": "python",
   "pygments_lexer": "ipython3",
   "version": "3.12.4"
  }
 },
 "nbformat": 4,
 "nbformat_minor": 2
}
