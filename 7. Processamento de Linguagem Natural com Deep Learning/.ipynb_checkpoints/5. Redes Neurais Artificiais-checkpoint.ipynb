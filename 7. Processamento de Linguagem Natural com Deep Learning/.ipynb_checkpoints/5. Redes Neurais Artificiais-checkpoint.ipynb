{
 "cells": [
  {
   "cell_type": "markdown",
   "id": "b233ffc3",
   "metadata": {},
   "source": [
    "# Redes Neurais Artificiais"
   ]
  },
  {
   "cell_type": "markdown",
   "id": "a99b276c",
   "metadata": {},
   "source": [
    "## Perceptron de uma camada"
   ]
  },
  {
   "cell_type": "markdown",
   "id": "20b75efe",
   "metadata": {},
   "source": [
    "### Neurônio artificial\n",
    "\n",
    "$$\n",
    "soma = \\sum_{i=1}^{n} x_i * w_i\n",
    "$$\n",
    "\n",
    "![neuronio arti](images/neuronio_artifical.png)\n",
    "\n",
    "**Step function** (*função de ativação*): \n",
    "- maior que zero = 1\n",
    "- caso contrário = 0"
   ]
  },
  {
   "cell_type": "markdown",
   "id": "13042941",
   "metadata": {},
   "source": [
    "## Rede multicamada\n",
    "\n",
    "- agora poderemos modelar problemas não linearmente separável\n",
    "$$\n",
    "soma = \\sum_{i=1}^{n} x_i * w_i\n",
    "$$\n",
    "\n",
    "\n",
    "![rede multicamada](images/rede_multi.png)\n",
    "\n",
    "**Função sigmoide** (*função de ativação*):\n",
    "![função sigmoide](images/sigmoide.png)\n"
   ]
  },
  {
   "cell_type": "markdown",
   "id": "2bb1089d",
   "metadata": {},
   "source": [
    "## Cálculo do erro\n",
    "\n",
    "**Mais simples**:\n",
    "\n",
    "$$\n",
    "erro = respostaCorreta - respostaCalculada\n",
    "$$"
   ]
  },
  {
   "cell_type": "markdown",
   "id": "e50b7be0",
   "metadata": {},
   "source": [
    "## Descida do gradiente\n",
    "\n",
    "- calcular a derivada parcial para mover para a direção do gradiente\n",
    "    - encontrar a combinação de pesos que o erro é o menor possível\n",
    "    - gradiente é calculado para saber quanto ajustar os pesos"
   ]
  },
  {
   "cell_type": "markdown",
   "id": "606269f3",
   "metadata": {},
   "source": [
    "## Parâmetro delta\n",
    "\n",
    "![cálculo do parametro delta](images/calculo_delta.png)\n",
    "\n",
    "$$\n",
    "deltaSaida = Erro * DerivadasSigmoide\n",
    "$$\n",
    "\n",
    "$$\n",
    "deltaEscondida = DerivadaSigmoide * peso * DeltaSaida\n",
    "$$"
   ]
  }
 ],
 "metadata": {
  "kernelspec": {
   "display_name": "Python 3",
   "language": "python",
   "name": "python3"
  },
  "language_info": {
   "codemirror_mode": {
    "name": "ipython",
    "version": 3
   },
   "file_extension": ".py",
   "mimetype": "text/x-python",
   "name": "python",
   "nbconvert_exporter": "python",
   "pygments_lexer": "ipython3",
   "version": "3.8.5"
  }
 },
 "nbformat": 4,
 "nbformat_minor": 5
}
