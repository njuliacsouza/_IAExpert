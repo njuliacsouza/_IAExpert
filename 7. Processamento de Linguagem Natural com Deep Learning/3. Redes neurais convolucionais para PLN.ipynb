{
 "cells": [
  {
   "cell_type": "markdown",
   "id": "885ea5d5",
   "metadata": {},
   "source": [
    "# Classificação de Sentimentos com Redes Neurais Convolucionais"
   ]
  },
  {
   "cell_type": "code",
   "execution_count": null,
   "id": "1b26d055",
   "metadata": {},
   "outputs": [],
   "source": [
    "import pandas as pd\n",
    "import numpy as np\n",
    "import seaborn as sns\n",
    "\n",
    "import re\n",
    "import math\n",
    "from bs4 import BeautifulSoup\n",
    "from google.drive import drive\n",
    "import zipfile"
   ]
  },
  {
   "cell_type": "code",
   "execution_count": 3,
   "id": "ae7cf704",
   "metadata": {},
   "outputs": [
    {
     "name": "stdout",
     "output_type": "stream",
     "text": [
      "(497, 6)\n"
     ]
    },
    {
     "data": {
      "text/html": [
       "<div>\n",
       "<style scoped>\n",
       "    .dataframe tbody tr th:only-of-type {\n",
       "        vertical-align: middle;\n",
       "    }\n",
       "\n",
       "    .dataframe tbody tr th {\n",
       "        vertical-align: top;\n",
       "    }\n",
       "\n",
       "    .dataframe thead th {\n",
       "        text-align: right;\n",
       "    }\n",
       "</style>\n",
       "<table border=\"1\" class=\"dataframe\">\n",
       "  <thead>\n",
       "    <tr style=\"text-align: right;\">\n",
       "      <th></th>\n",
       "      <th>4</th>\n",
       "      <th>3</th>\n",
       "      <th>Mon May 11 03:17:40 UTC 2009</th>\n",
       "      <th>kindle2</th>\n",
       "      <th>tpryan</th>\n",
       "      <th>@stellargirl I loooooooovvvvvveee my Kindle2. Not that the DX is cool, but the 2 is fantastic in its own right.</th>\n",
       "    </tr>\n",
       "  </thead>\n",
       "  <tbody>\n",
       "    <tr>\n",
       "      <th>90</th>\n",
       "      <td>0</td>\n",
       "      <td>213</td>\n",
       "      <td>Mon May 25 17:25:34 UTC 2009</td>\n",
       "      <td>insects</td>\n",
       "      <td>malcozer</td>\n",
       "      <td>insects have infected my spinach plant :(</td>\n",
       "    </tr>\n",
       "    <tr>\n",
       "      <th>254</th>\n",
       "      <td>4</td>\n",
       "      <td>1020</td>\n",
       "      <td>Mon May 11 05:21:57 UTC 2009</td>\n",
       "      <td>lebron</td>\n",
       "      <td>BI_POLAROID</td>\n",
       "      <td>@Lou911 Lebron is MURDERING shit.</td>\n",
       "    </tr>\n",
       "    <tr>\n",
       "      <th>283</th>\n",
       "      <td>2</td>\n",
       "      <td>2101</td>\n",
       "      <td>Sun May 17 17:30:25 UTC 2009</td>\n",
       "      <td>san francisco</td>\n",
       "      <td>rayceja</td>\n",
       "      <td>Heading to San Francisco</td>\n",
       "    </tr>\n",
       "    <tr>\n",
       "      <th>443</th>\n",
       "      <td>2</td>\n",
       "      <td>2533</td>\n",
       "      <td>Sun Jun 07 01:13:34 UTC 2009</td>\n",
       "      <td>jquery</td>\n",
       "      <td>5x1llz</td>\n",
       "      <td>This is cold.. I was looking at google's chart...</td>\n",
       "    </tr>\n",
       "    <tr>\n",
       "      <th>336</th>\n",
       "      <td>4</td>\n",
       "      <td>2187</td>\n",
       "      <td>Mon May 25 17:29:06 UTC 2009</td>\n",
       "      <td>mcdonalds</td>\n",
       "      <td>connlocks</td>\n",
       "      <td>Just had McDonalds for dinner. :D It was goooo...</td>\n",
       "    </tr>\n",
       "  </tbody>\n",
       "</table>\n",
       "</div>"
      ],
      "text/plain": [
       "     4     3  Mon May 11 03:17:40 UTC 2009        kindle2       tpryan  \\\n",
       "90   0   213  Mon May 25 17:25:34 UTC 2009        insects     malcozer   \n",
       "254  4  1020  Mon May 11 05:21:57 UTC 2009         lebron  BI_POLAROID   \n",
       "283  2  2101  Sun May 17 17:30:25 UTC 2009  san francisco      rayceja   \n",
       "443  2  2533  Sun Jun 07 01:13:34 UTC 2009         jquery       5x1llz   \n",
       "336  4  2187  Mon May 25 17:29:06 UTC 2009      mcdonalds    connlocks   \n",
       "\n",
       "    @stellargirl I loooooooovvvvvveee my Kindle2. Not that the DX is cool, but the 2 is fantastic in its own right.  \n",
       "90           insects have infected my spinach plant :(                                                               \n",
       "254                  @Lou911 Lebron is MURDERING shit.                                                               \n",
       "283                           Heading to San Francisco                                                               \n",
       "443  This is cold.. I was looking at google's chart...                                                               \n",
       "336  Just had McDonalds for dinner. :D It was goooo...                                                               "
      ]
     },
     "execution_count": 3,
     "metadata": {},
     "output_type": "execute_result"
    }
   ],
   "source": [
    "test_data = pd.read_csv('../..//_IAExpert_private/7. Processamento de Linguagem Natural com Deep LEarning/trainingandtestdata/test.csv')\n",
    "print(test_data.shape)\n",
    "test_data.sample(5, random_state=0)"
   ]
  }
 ],
 "metadata": {
  "kernelspec": {
   "display_name": "Python 3",
   "language": "python",
   "name": "python3"
  },
  "language_info": {
   "codemirror_mode": {
    "name": "ipython",
    "version": 3
   },
   "file_extension": ".py",
   "mimetype": "text/x-python",
   "name": "python",
   "nbconvert_exporter": "python",
   "pygments_lexer": "ipython3",
   "version": "3.8.5"
  }
 },
 "nbformat": 4,
 "nbformat_minor": 5
}
