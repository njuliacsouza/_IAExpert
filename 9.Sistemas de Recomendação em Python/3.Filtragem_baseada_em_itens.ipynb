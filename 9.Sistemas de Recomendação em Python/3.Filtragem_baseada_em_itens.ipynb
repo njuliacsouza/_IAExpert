{
 "cells": [
  {
   "cell_type": "markdown",
   "metadata": {},
   "source": [
    "# Filtragem baseada em itens\n",
    "\n",
    " O uso de todas as recomendações de cada usuário para criar um conjunto de dados pode funcionar bem para sistemas pequenos. O que fizemos até agora é comparar um usuário com todos os outros e depois cada filme que cada usuário avaliou e um sistema com muitos produtos pode apresentar pouca semelhança entre usuário.\n",
    "\n",
    " A **filtragem baseada em itens** é utilizada em um conjunto de dados muito grandes, permite que os cálculos sejam feitos antecipadamente para retornar as recomendações mais rapidamente, **pré-computando itens similares**, usando média ponderada com itens similares. A comparação entre itens não mudarão com tanta frequência quanto comparações entre usuários. Os cálculos são feitos em baixo movimento ou em computadores separados.\n"
   ]
  },
  {
   "cell_type": "code",
   "execution_count": 1,
   "metadata": {},
   "outputs": [],
   "source": [
    "import pandas as pd\n",
    "import numpy as np"
   ]
  },
  {
   "cell_type": "code",
   "execution_count": 19,
   "metadata": {},
   "outputs": [],
   "source": [
    "def distancia_euclidiana(x_i: np.array, y_i: np.array) -> float:\n",
    "    return (sum((x_i - y_i)**2))**(0.5)\n",
    "\n",
    "def similaridade(x_i: np.array, y_i: np.array) -> float:\n",
    "    return 1/(1+ distancia_euclidiana(x_i, y_i))\n",
    "\n",
    "def similaridade_df(item_1: str, item_2: str, coluna: str, base: pd.DataFrame) -> float:\n",
    "    df = base.loc[base[coluna].isin([item_1, item_2])]\n",
    "    df = df.dropna(axis=1)\n",
    "    \n",
    "    x_i = df.loc[df[coluna]==item_1].drop(coluna, axis=1).values[0]\n",
    "    y_i = df.loc[df[coluna]==item_2].drop(coluna, axis=1).values[0]\n",
    "\n",
    "    return similaridade(x_i, y_i)\n",
    "\n",
    "def similaridade_por_item(item: str, coluna: str, base: pd.DataFrame, limite: float = 0.6) -> float:\n",
    "    similaridades = {\n",
    "            item_2: similaridade_df(item, item_2, coluna, base) \n",
    "            for item_2 in base[base[coluna]!=item][coluna].unique()\n",
    "    }\n",
    "    return {item: value for item, value in similaridades.items() if value >= limite}"
   ]
  },
  {
   "cell_type": "code",
   "execution_count": 12,
   "metadata": {},
   "outputs": [],
   "source": [
    "filmes = {'Freddy x Jason': \n",
    "\t\t{'Ana': 2.5, \n",
    "\t\t 'Marcos': 3.0 ,\n",
    "\t\t 'Pedro': 2.5, \n",
    "\t\t 'Adriano': 3.0, \n",
    "\t\t 'Janaina': 3.0 },\n",
    "\t \n",
    "\t 'O Ultimato Bourne': \n",
    "\t\t{'Ana': 3.5, \n",
    "\t\t 'Marcos': 3.5,\n",
    "\t\t 'Pedro': 3.0, \n",
    "\t\t 'Claudia': 3.5, \n",
    "\t\t 'Adriano': 4.0, \n",
    "\t\t 'Janaina': 4.0,\n",
    "\t\t 'Leonardo': 4.5 },\n",
    "\t\t\t\t \n",
    "\t 'Star Trek': \n",
    "\t\t{'Ana': 3.0, \n",
    "\t\t 'Marcos': 1.5,\n",
    "\t\t 'Claudia': 3.0, \n",
    "\t\t 'Adriano': 2.0 },\n",
    "\t\n",
    "\t 'Exterminador do Futuro': \n",
    "\t\t{'Ana': 3.5, \n",
    "\t\t 'Marcos': 5.0 ,\n",
    "\t\t 'Pedro': 3.5, \n",
    "\t\t 'Claudia': 4.0, \n",
    "\t\t 'Adriano': 3.0, \n",
    "\t\t 'Janaina': 5.0,\n",
    "\t\t 'Leonardo': 4.0},\n",
    "\t\t\t\t \n",
    "\t 'Norbit': \n",
    "\t\t{'Ana': 2.5, \n",
    "\t\t 'Marcos': 3.0 ,\n",
    "\t\t 'Claudia': 2.5, \n",
    "\t\t 'Adriano': 2.0, \n",
    "\t\t 'Janaina': 3.5,\n",
    "\t\t 'Leonardo': 1.0},\n",
    "\t\t\t\t \n",
    "\t 'Star Wars': \n",
    "\t\t{'Ana': 3.0, \n",
    "\t\t 'Marcos': 3.5,\n",
    "\t\t 'Pedro': 4.0, \n",
    "\t\t 'Claudia': 4.5, \n",
    "\t\t 'Adriano': 3.0, \n",
    "\t\t 'Janaina': 3.0}\n",
    "}"
   ]
  },
  {
   "cell_type": "code",
   "execution_count": 31,
   "metadata": {},
   "outputs": [
    {
     "name": "stdout",
     "output_type": "stream",
     "text": [
      "(6, 8)\n"
     ]
    },
    {
     "data": {
      "text/html": [
       "<div>\n",
       "<style scoped>\n",
       "    .dataframe tbody tr th:only-of-type {\n",
       "        vertical-align: middle;\n",
       "    }\n",
       "\n",
       "    .dataframe tbody tr th {\n",
       "        vertical-align: top;\n",
       "    }\n",
       "\n",
       "    .dataframe thead th {\n",
       "        text-align: right;\n",
       "    }\n",
       "</style>\n",
       "<table border=\"1\" class=\"dataframe\">\n",
       "  <thead>\n",
       "    <tr style=\"text-align: right;\">\n",
       "      <th></th>\n",
       "      <th>filme</th>\n",
       "      <th>Ana</th>\n",
       "      <th>Marcos</th>\n",
       "      <th>Pedro</th>\n",
       "      <th>Adriano</th>\n",
       "      <th>Janaina</th>\n",
       "      <th>Claudia</th>\n",
       "      <th>Leonardo</th>\n",
       "    </tr>\n",
       "  </thead>\n",
       "  <tbody>\n",
       "    <tr>\n",
       "      <th>0</th>\n",
       "      <td>Freddy x Jason</td>\n",
       "      <td>2.5</td>\n",
       "      <td>3.0</td>\n",
       "      <td>2.5</td>\n",
       "      <td>3.0</td>\n",
       "      <td>3.0</td>\n",
       "      <td>NaN</td>\n",
       "      <td>NaN</td>\n",
       "    </tr>\n",
       "    <tr>\n",
       "      <th>1</th>\n",
       "      <td>O Ultimato Bourne</td>\n",
       "      <td>3.5</td>\n",
       "      <td>3.5</td>\n",
       "      <td>3.0</td>\n",
       "      <td>4.0</td>\n",
       "      <td>4.0</td>\n",
       "      <td>3.5</td>\n",
       "      <td>4.5</td>\n",
       "    </tr>\n",
       "    <tr>\n",
       "      <th>2</th>\n",
       "      <td>Star Trek</td>\n",
       "      <td>3.0</td>\n",
       "      <td>1.5</td>\n",
       "      <td>NaN</td>\n",
       "      <td>2.0</td>\n",
       "      <td>NaN</td>\n",
       "      <td>3.0</td>\n",
       "      <td>NaN</td>\n",
       "    </tr>\n",
       "    <tr>\n",
       "      <th>3</th>\n",
       "      <td>Exterminador do Futuro</td>\n",
       "      <td>3.5</td>\n",
       "      <td>5.0</td>\n",
       "      <td>3.5</td>\n",
       "      <td>3.0</td>\n",
       "      <td>5.0</td>\n",
       "      <td>4.0</td>\n",
       "      <td>4.0</td>\n",
       "    </tr>\n",
       "    <tr>\n",
       "      <th>4</th>\n",
       "      <td>Norbit</td>\n",
       "      <td>2.5</td>\n",
       "      <td>3.0</td>\n",
       "      <td>NaN</td>\n",
       "      <td>2.0</td>\n",
       "      <td>3.5</td>\n",
       "      <td>2.5</td>\n",
       "      <td>1.0</td>\n",
       "    </tr>\n",
       "    <tr>\n",
       "      <th>5</th>\n",
       "      <td>Star Wars</td>\n",
       "      <td>3.0</td>\n",
       "      <td>3.5</td>\n",
       "      <td>4.0</td>\n",
       "      <td>3.0</td>\n",
       "      <td>3.0</td>\n",
       "      <td>4.5</td>\n",
       "      <td>NaN</td>\n",
       "    </tr>\n",
       "  </tbody>\n",
       "</table>\n",
       "</div>"
      ],
      "text/plain": [
       "                    filme  Ana  Marcos  Pedro  Adriano  Janaina  Claudia  \\\n",
       "0          Freddy x Jason  2.5     3.0    2.5      3.0      3.0      NaN   \n",
       "1       O Ultimato Bourne  3.5     3.5    3.0      4.0      4.0      3.5   \n",
       "2               Star Trek  3.0     1.5    NaN      2.0      NaN      3.0   \n",
       "3  Exterminador do Futuro  3.5     5.0    3.5      3.0      5.0      4.0   \n",
       "4                  Norbit  2.5     3.0    NaN      2.0      3.5      2.5   \n",
       "5               Star Wars  3.0     3.5    4.0      3.0      3.0      4.5   \n",
       "\n",
       "   Leonardo  \n",
       "0       NaN  \n",
       "1       4.5  \n",
       "2       NaN  \n",
       "3       4.0  \n",
       "4       1.0  \n",
       "5       NaN  "
      ]
     },
     "execution_count": 31,
     "metadata": {},
     "output_type": "execute_result"
    }
   ],
   "source": [
    "df_filmes = pd.DataFrame(filmes).T.reset_index().rename(columns={\"index\": \"filme\"})\n",
    "print(df_filmes.shape)\n",
    "df_filmes"
   ]
  },
  {
   "cell_type": "markdown",
   "metadata": {},
   "source": [
    "Vamos recomendar um filme para o Leonardo"
   ]
  },
  {
   "cell_type": "code",
   "execution_count": 46,
   "metadata": {},
   "outputs": [
    {
     "data": {
      "text/html": [
       "<div>\n",
       "<style scoped>\n",
       "    .dataframe tbody tr th:only-of-type {\n",
       "        vertical-align: middle;\n",
       "    }\n",
       "\n",
       "    .dataframe tbody tr th {\n",
       "        vertical-align: top;\n",
       "    }\n",
       "\n",
       "    .dataframe thead th {\n",
       "        text-align: right;\n",
       "    }\n",
       "</style>\n",
       "<table border=\"1\" class=\"dataframe\">\n",
       "  <thead>\n",
       "    <tr style=\"text-align: right;\">\n",
       "      <th></th>\n",
       "      <th>filme</th>\n",
       "      <th>Leonardo</th>\n",
       "      <th>Freddy x Jason</th>\n",
       "      <th>Nota X Freddy x Jason</th>\n",
       "      <th>Star Trek</th>\n",
       "      <th>Nota X Star Trek</th>\n",
       "      <th>Star Wars</th>\n",
       "      <th>Nota X Star Wars</th>\n",
       "    </tr>\n",
       "  </thead>\n",
       "  <tbody>\n",
       "    <tr>\n",
       "      <th>1</th>\n",
       "      <td>O Ultimato Bourne</td>\n",
       "      <td>4.5</td>\n",
       "      <td>0.348331</td>\n",
       "      <td>1.567492</td>\n",
       "      <td>0.255397</td>\n",
       "      <td>1.149286</td>\n",
       "      <td>0.326632</td>\n",
       "      <td>1.469842</td>\n",
       "    </tr>\n",
       "    <tr>\n",
       "      <th>3</th>\n",
       "      <td>Exterminador do Futuro</td>\n",
       "      <td>4.0</td>\n",
       "      <td>0.240253</td>\n",
       "      <td>0.961012</td>\n",
       "      <td>0.207992</td>\n",
       "      <td>0.831966</td>\n",
       "      <td>0.274292</td>\n",
       "      <td>1.097168</td>\n",
       "    </tr>\n",
       "    <tr>\n",
       "      <th>4</th>\n",
       "      <td>Norbit</td>\n",
       "      <td>1.0</td>\n",
       "      <td>0.472136</td>\n",
       "      <td>0.472136</td>\n",
       "      <td>0.376179</td>\n",
       "      <td>0.376179</td>\n",
       "      <td>0.294298</td>\n",
       "      <td>0.294298</td>\n",
       "    </tr>\n",
       "  </tbody>\n",
       "</table>\n",
       "</div>"
      ],
      "text/plain": [
       "                    filme  Leonardo  Freddy x Jason  Nota X Freddy x Jason  \\\n",
       "1       O Ultimato Bourne       4.5        0.348331               1.567492   \n",
       "3  Exterminador do Futuro       4.0        0.240253               0.961012   \n",
       "4                  Norbit       1.0        0.472136               0.472136   \n",
       "\n",
       "   Star Trek  Nota X Star Trek  Star Wars  Nota X Star Wars  \n",
       "1   0.255397          1.149286   0.326632          1.469842  \n",
       "3   0.207992          0.831966   0.274292          1.097168  \n",
       "4   0.376179          0.376179   0.294298          0.294298  "
      ]
     },
     "execution_count": 46,
     "metadata": {},
     "output_type": "execute_result"
    }
   ],
   "source": [
    "# Filmes que o Leonardo já viu\n",
    "\n",
    "df_i = df_filmes[~df_filmes.Leonardo.isnull()][[\"filme\", \"Leonardo\"]]\n",
    "for filme_i in ['Freddy x Jason', 'Star Trek', 'Star Wars']:\n",
    "    df_i[filme_i] = df_i.apply(lambda i: similaridade_df(i.filme, filme_i, \"filme\",  df_filmes), axis=1)\n",
    "    df_i[f\"Nota X {filme_i}\"] = df_i[filme_i] * df_i[\"Leonardo\"]\n",
    "df_i"
   ]
  },
  {
   "cell_type": "markdown",
   "metadata": {},
   "source": [
    "Acima estamos calculando a similaridade entre os filmes que o Leonardo já assistiu com os filmes que o Leonardo ainda não assistiu."
   ]
  },
  {
   "cell_type": "code",
   "execution_count": 49,
   "metadata": {},
   "outputs": [
    {
     "name": "stdout",
     "output_type": "stream",
     "text": [
      "Avaliação esperada para Freddy x Jason 2.8288695093208878\n",
      "Avaliação esperada para Star Trek 2.807912583423976\n",
      "Avaliação esperada para Star Wars 3.196200842319029\n"
     ]
    }
   ],
   "source": [
    "print(\"Avaliação esperada para Freddy x Jason\", sum(df_i[\"Nota X Freddy x Jason\"])/sum(df_i[\"Freddy x Jason\"]))\n",
    "print(\"Avaliação esperada para Star Trek\", sum(df_i[\"Nota X Star Trek\"])/sum(df_i[\"Star Trek\"]))\n",
    "print(\"Avaliação esperada para Star Wars\", sum(df_i[\"Nota X Star Wars\"])/sum(df_i[\"Star Wars\"]))"
   ]
  },
  {
   "cell_type": "code",
   "execution_count": 50,
   "metadata": {},
   "outputs": [
    {
     "data": {
      "text/plain": [
       "{'Freddy x Jason': 0.3483314773547883,\n",
       " 'O Ultimato Bourne': 0.2553967929896867,\n",
       " 'Exterminador do Futuro': 0.20799159651347807,\n",
       " 'Norbit': 0.3761785115301142,\n",
       " 'Star Wars': 0.2708131845707603}"
      ]
     },
     "execution_count": 50,
     "metadata": {},
     "output_type": "execute_result"
    }
   ],
   "source": [
    "similaridade_por_item(\"Star Trek\", \"filme\", df_filmes, 0.0)"
   ]
  },
  {
   "cell_type": "code",
   "execution_count": 56,
   "metadata": {},
   "outputs": [],
   "source": [
    "def similaridade_por_coluna(coluna: str, base: pd.DataFrame, limite: float = 0.0) -> dict:\n",
    "    results = {}\n",
    "    for item in base[coluna].values:\n",
    "        sim = similaridade_por_item(item, coluna, base, limite)\n",
    "        results[item] = sim\n",
    "    return results"
   ]
  },
  {
   "cell_type": "code",
   "execution_count": 57,
   "metadata": {},
   "outputs": [
    {
     "data": {
      "text/plain": [
       "{'Freddy x Jason': {'O Ultimato Bourne': 0.3483314773547883,\n",
       "  'Star Trek': 0.3483314773547883,\n",
       "  'Exterminador do Futuro': 0.2402530733520421,\n",
       "  'Norbit': 0.4721359549995794,\n",
       "  'Star Wars': 0.3761785115301142},\n",
       " 'O Ultimato Bourne': {'Freddy x Jason': 0.3483314773547883,\n",
       "  'Star Trek': 0.2553967929896867,\n",
       "  'Exterminador do Futuro': 0.3090169943749474,\n",
       "  'Norbit': 0.1876127897984334,\n",
       "  'Star Wars': 0.3266316347104093},\n",
       " 'Star Trek': {'Freddy x Jason': 0.3483314773547883,\n",
       "  'O Ultimato Bourne': 0.2553967929896867,\n",
       "  'Exterminador do Futuro': 0.20799159651347807,\n",
       "  'Norbit': 0.3761785115301142,\n",
       "  'Star Wars': 0.2708131845707603},\n",
       " 'Exterminador do Futuro': {'Freddy x Jason': 0.2402530733520421,\n",
       "  'O Ultimato Bourne': 0.3090169943749474,\n",
       "  'Star Trek': 0.20799159651347807,\n",
       "  'Norbit': 0.18464218557642828,\n",
       "  'Star Wars': 0.27429188517743175},\n",
       " 'Norbit': {'Freddy x Jason': 0.4721359549995794,\n",
       "  'O Ultimato Bourne': 0.1876127897984334,\n",
       "  'Star Trek': 0.3761785115301142,\n",
       "  'Exterminador do Futuro': 0.18464218557642828,\n",
       "  'Star Wars': 0.29429805508554946},\n",
       " 'Star Wars': {'Freddy x Jason': 0.3761785115301142,\n",
       "  'O Ultimato Bourne': 0.3266316347104093,\n",
       "  'Star Trek': 0.2708131845707603,\n",
       "  'Exterminador do Futuro': 0.27429188517743175,\n",
       "  'Norbit': 0.29429805508554946}}"
      ]
     },
     "execution_count": 57,
     "metadata": {},
     "output_type": "execute_result"
    }
   ],
   "source": [
    "similaridade_por_coluna(\"filme\", df_filmes)"
   ]
  },
  {
   "cell_type": "markdown",
   "metadata": {},
   "source": [
    "Assim esses valores ficam armazenados e não precisam ser carregados todas as vezes que precisamos fazer uma recomendação, basta consultar."
   ]
  },
  {
   "cell_type": "markdown",
   "metadata": {},
   "source": [
    "## Fazendo recomendações"
   ]
  },
  {
   "cell_type": "code",
   "execution_count": 65,
   "metadata": {},
   "outputs": [],
   "source": [
    "def recomendar(base: pd.DataFrame, coluna: str, usuario: str) -> str:\n",
    "    df_i = base[~base[usuario].isnull()][[coluna, usuario]]\n",
    "    for item in base[base[usuario].isnull()][coluna].values:\n",
    "        df_i[item] = df_i.apply(lambda i: similaridade_df(i[coluna], item, coluna,  base), axis=1)\n",
    "        df_i[f\"Nota X {item}\"] = df_i[item] * df_i[usuario]\n",
    "    notas_esperadas = {}\n",
    "    for item in base[base[usuario].isnull()][coluna].values:\n",
    "        notas_esperadas[item] = sum(df_i[f\"Nota X {item}\"])/sum(df_i[item])\n",
    "    return notas_esperadas"
   ]
  },
  {
   "cell_type": "code",
   "execution_count": 69,
   "metadata": {},
   "outputs": [
    {
     "data": {
      "text/plain": [
       "{'Freddy x Jason': 2.8288695093208878,\n",
       " 'Star Trek': 2.807912583423976,\n",
       " 'Star Wars': 3.196200842319029}"
      ]
     },
     "execution_count": 69,
     "metadata": {},
     "output_type": "execute_result"
    }
   ],
   "source": [
    "recomendar(df_filmes, \"filme\", \"Leonardo\")"
   ]
  },
  {
   "cell_type": "markdown",
   "metadata": {},
   "source": [
    "## Usuários x Itens\n",
    "\n",
    "- Usuários:\n",
    "    - Mais simples de implementar\n",
    "    - Indicada para conjunto de dados menores (mantido integralmente em memória)\n",
    "    - somento o cálculo de similaridade já pode ser útil\n",
    "- Itens:\n",
    "    - Mais rápida\n",
    "    - Indicada para grandes conjuntos de dados\n",
    "    - Necessita manter a tabela de similaridade de itens\n",
    "\n",
    "**Desempenho**\n",
    "- Itens tem desempenho melhor com dados esparços (pessoas deram notas para produtos diferentes, grupos)\n",
    "- Usuários e itens tem depensempenho parecido para dados densos (pessoas deram notas para quase todos os filems)"
   ]
  }
 ],
 "metadata": {
  "kernelspec": {
   "display_name": "Python 3",
   "language": "python",
   "name": "python3"
  },
  "language_info": {
   "codemirror_mode": {
    "name": "ipython",
    "version": 3
   },
   "file_extension": ".py",
   "mimetype": "text/x-python",
   "name": "python",
   "nbconvert_exporter": "python",
   "pygments_lexer": "ipython3",
   "version": "3.12.4"
  }
 },
 "nbformat": 4,
 "nbformat_minor": 2
}
