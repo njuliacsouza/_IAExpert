{
 "cells": [
  {
   "cell_type": "markdown",
   "id": "cc2a9bbd",
   "metadata": {},
   "source": [
    "# Processamento de Linguagem Natural\n",
    "\n",
    "Aplicações:\n",
    "\n",
    "- Speech Transcription\n",
    "- Natural Machine Translation (NMT)\n",
    "- Chatbots\n",
    "- Q&A\n",
    "- Text Summaritization\n",
    "- Image Captioning\n",
    "- Video Captioning"
   ]
  },
  {
   "cell_type": "markdown",
   "id": "08cf0f29",
   "metadata": {},
   "source": [
    "### Estrutura do curso:\n",
    "\n",
    "1. Redes Neurais COnvolucionais para PLN\n",
    "2. Projeto 1: classificação de sentimentos\n",
    "3. Arquitetura Transformer\n",
    "4. Projeto 2: Tradutor inglês-português\n",
    "\n",
    "- Anexo I: Teoria básica de Redes Neurais Artificiais\n",
    "- Anexo II: Teoria sobre Redes Neurais Recorrentes"
   ]
  }
 ],
 "metadata": {
  "kernelspec": {
   "display_name": "Python 3",
   "language": "python",
   "name": "python3"
  },
  "language_info": {
   "codemirror_mode": {
    "name": "ipython",
    "version": 3
   },
   "file_extension": ".py",
   "mimetype": "text/x-python",
   "name": "python",
   "nbconvert_exporter": "python",
   "pygments_lexer": "ipython3",
   "version": "3.8.5"
  }
 },
 "nbformat": 4,
 "nbformat_minor": 5
}
