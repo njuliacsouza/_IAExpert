{
 "cells": [
  {
   "cell_type": "markdown",
   "id": "29d95abd",
   "metadata": {},
   "source": [
    "# Mineração de textos e classificação\n",
    "---"
   ]
  },
  {
   "cell_type": "code",
   "execution_count": null,
   "id": "dfaf85ad",
   "metadata": {},
   "outputs": [],
   "source": [
    "import nltk\n",
    "\n",
    "texto_teste = 'Hoje é um dia lindo!'\n",
    "teste_stemming = []\n",
    "stemmer = nltk.stem.RSLPStemmer()\n",
    "for (palavras) in teste.split():\n",
    "    com_stem = [p for p in palavras.split()]\n",
    "    teste_stemming.append(str(stemmer.stem(com_stem[0])))\n",
    "\n",
    "novo = extrator_palavras(teste_stemming)\n",
    "\n",
    "distribuicao = classificador"
   ]
  }
 ],
 "metadata": {
  "kernelspec": {
   "display_name": "Python 3",
   "language": "python",
   "name": "python3"
  },
  "language_info": {
   "codemirror_mode": {
    "name": "ipython",
    "version": 3
   },
   "file_extension": ".py",
   "mimetype": "text/x-python",
   "name": "python",
   "nbconvert_exporter": "python",
   "pygments_lexer": "ipython3",
   "version": "3.8.5"
  }
 },
 "nbformat": 4,
 "nbformat_minor": 5
}
