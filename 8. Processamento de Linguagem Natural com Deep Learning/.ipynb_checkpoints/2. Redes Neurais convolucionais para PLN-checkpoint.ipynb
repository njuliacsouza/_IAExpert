{
 "cells": [
  {
   "cell_type": "markdown",
   "id": "6446498c",
   "metadata": {},
   "source": [
    "#  Redes Neurais Convolucionais para PLN\n",
    "\n",
    "\n",
    "![cnn_imagens](cnn_imagens.png)\n",
    "\n",
    "- **Etapa 1:** Convolução - criação de detectores de características\n",
    "- **Etapa 2:** Max Pooling\n",
    "- **Etapa 3:** Flattening\n",
    "- **Etapa 4:** Full Connection (rede neural densa)"
   ]
  },
  {
   "cell_type": "markdown",
   "id": "77ededd1",
   "metadata": {},
   "source": [
    "![imagem_e_texto](image_text_rep.png)"
   ]
  },
  {
   "cell_type": "markdown",
   "id": "b6220dd7",
   "metadata": {},
   "source": [
    "Assim cada palavra é representada por um vetor."
   ]
  },
  {
   "cell_type": "markdown",
   "id": "dde52fde",
   "metadata": {},
   "source": [
    "## Word embedding\n",
    "\n",
    "- **representação fácil mas não efetiva**: one-hot encoding, sem relação entre as palavras"
   ]
  }
 ],
 "metadata": {
  "kernelspec": {
   "display_name": "Python 3",
   "language": "python",
   "name": "python3"
  },
  "language_info": {
   "codemirror_mode": {
    "name": "ipython",
    "version": 3
   },
   "file_extension": ".py",
   "mimetype": "text/x-python",
   "name": "python",
   "nbconvert_exporter": "python",
   "pygments_lexer": "ipython3",
   "version": "3.8.5"
  }
 },
 "nbformat": 4,
 "nbformat_minor": 5
}
