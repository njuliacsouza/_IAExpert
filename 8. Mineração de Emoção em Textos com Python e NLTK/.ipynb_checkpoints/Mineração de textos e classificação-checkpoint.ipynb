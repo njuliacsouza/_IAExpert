{
 "cells": [
  {
   "cell_type": "markdown",
   "id": "8d5fdc5e",
   "metadata": {},
   "source": [
    "# Mineração de textos e classificação\n",
    "---"
   ]
  },
  {
   "cell_type": "code",
   "execution_count": 2,
   "id": "dc0c03be",
   "metadata": {},
   "outputs": [
    {
     "data": {
      "text/plain": [
       "['hoj', 'é', 'um', 'dia', 'lindo!']"
      ]
     },
     "execution_count": 2,
     "metadata": {},
     "output_type": "execute_result"
    }
   ],
   "source": [
    "## exemplo de stemming\n",
    "\n",
    "import nltk\n",
    "\n",
    "texto_teste = 'Hoje é um dia lindo!'\n",
    "teste_stemming = []\n",
    "stemmer = nltk.stem.RSLPStemmer()\n",
    "for (palavras) in texto_teste.split():\n",
    "    com_stem = [p for p in palavras.split()]\n",
    "    teste_stemming.append(str(stemmer.stem(com_stem[0])))\n",
    "\n",
    "teste_stemming"
   ]
  }
 ],
 "metadata": {
  "kernelspec": {
   "display_name": "Python 3",
   "language": "python",
   "name": "python3"
  },
  "language_info": {
   "codemirror_mode": {
    "name": "ipython",
    "version": 3
   },
   "file_extension": ".py",
   "mimetype": "text/x-python",
   "name": "python",
   "nbconvert_exporter": "python",
   "pygments_lexer": "ipython3",
   "version": "3.8.5"
  }
 },
 "nbformat": 4,
 "nbformat_minor": 5
}
