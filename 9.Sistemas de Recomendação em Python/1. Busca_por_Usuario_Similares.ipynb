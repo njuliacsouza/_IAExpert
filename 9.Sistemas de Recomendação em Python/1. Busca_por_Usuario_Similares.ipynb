{
 "cells": [
  {
   "cell_type": "markdown",
   "metadata": {},
   "source": [
    "# Busco por Usuários Similares\n",
    "\n",
    "- Gráfico dos usuários e filmes\n",
    "- Distäncia Euclidiana\n",
    "- Distancia Euclidiana para retornar os usuários mais similares"
   ]
  },
  {
   "cell_type": "code",
   "execution_count": 49,
   "metadata": {},
   "outputs": [],
   "source": [
    "import pandas as pd\n",
    "import matplotlib.pyplot as plt\n",
    "import numpy as np"
   ]
  },
  {
   "cell_type": "code",
   "execution_count": 5,
   "metadata": {},
   "outputs": [],
   "source": [
    "avaliacoes = {'Ana': \n",
    "\t\t{'Freddy x Jason': 2.5, \n",
    "\t\t 'O Ultimato Bourne': 3.5,\n",
    "\t\t 'Star Trek': 3.0, \n",
    "\t\t 'Exterminador do Futuro': 3.5, \n",
    "\t\t 'Norbit': 2.5, \n",
    "\t\t 'Star Wars': 3.0},\n",
    "\t \n",
    "\t  'Marcos': \n",
    "\t\t{'Freddy x Jason': 3.0, \n",
    "\t\t 'O Ultimato Bourne': 3.5, \n",
    "\t\t 'Star Trek': 1.5, \n",
    "\t\t 'Exterminador do Futuro': 5.0, \n",
    "\t\t 'Star Wars': 3.0, \n",
    "\t\t 'Norbit': 3.5}, \n",
    "\n",
    "\t  'Pedro': \n",
    "\t    {'Freddy x Jason': 2.5, \n",
    "\t\t 'O Ultimato Bourne': 3.0,\n",
    "\t\t 'Exterminador do Futuro': 3.5, \n",
    "\t\t 'Star Wars': 4.0},\n",
    "\t\t\t \n",
    "\t  'Claudia': \n",
    "\t\t{'O Ultimato Bourne': 3.5, \n",
    "\t\t 'Star Trek': 3.0,\n",
    "\t\t 'Star Wars': 4.5, \n",
    "\t\t 'Exterminador do Futuro': 4.0, \n",
    "\t\t 'Norbit': 2.5},\n",
    "\t\t\t\t \n",
    "\t  'Adriano': \n",
    "\t\t{'Freddy x Jason': 3.0, \n",
    "\t\t 'O Ultimato Bourne': 4.0, \n",
    "\t\t 'Star Trek': 2.0, \n",
    "\t\t 'Exterminador do Futuro': 3.0, \n",
    "\t\t 'Star Wars': 3.0,\n",
    "\t\t 'Norbit': 2.0}, \n",
    "\n",
    "\t  'Janaina': \n",
    "\t     {'Freddy x Jason': 3.0, \n",
    "\t      'O Ultimato Bourne': 4.0,\n",
    "\t      'Star Wars': 3.0, \n",
    "\t      'Exterminador do Futuro': 5.0, \n",
    "\t      'Norbit': 3.5},\n",
    "\t\t\t  \n",
    "\t  'Leonardo': \n",
    "\t    {'O Ultimato Bourne':4.5,\n",
    "             'Norbit':1.0,\n",
    "\t     'Exterminador do Futuro':4.0}\n",
    "}"
   ]
  },
  {
   "cell_type": "code",
   "execution_count": 39,
   "metadata": {},
   "outputs": [
    {
     "name": "stdout",
     "output_type": "stream",
     "text": [
      "(7, 7)\n"
     ]
    },
    {
     "data": {
      "text/html": [
       "<div>\n",
       "<style scoped>\n",
       "    .dataframe tbody tr th:only-of-type {\n",
       "        vertical-align: middle;\n",
       "    }\n",
       "\n",
       "    .dataframe tbody tr th {\n",
       "        vertical-align: top;\n",
       "    }\n",
       "\n",
       "    .dataframe thead th {\n",
       "        text-align: right;\n",
       "    }\n",
       "</style>\n",
       "<table border=\"1\" class=\"dataframe\">\n",
       "  <thead>\n",
       "    <tr style=\"text-align: right;\">\n",
       "      <th></th>\n",
       "      <th>user</th>\n",
       "      <th>Freddy x Jason</th>\n",
       "      <th>O Ultimato Bourne</th>\n",
       "      <th>Star Trek</th>\n",
       "      <th>Exterminador do Futuro</th>\n",
       "      <th>Norbit</th>\n",
       "      <th>Star Wars</th>\n",
       "    </tr>\n",
       "  </thead>\n",
       "  <tbody>\n",
       "    <tr>\n",
       "      <th>0</th>\n",
       "      <td>Ana</td>\n",
       "      <td>2.5</td>\n",
       "      <td>3.5</td>\n",
       "      <td>3.0</td>\n",
       "      <td>3.5</td>\n",
       "      <td>2.5</td>\n",
       "      <td>3.0</td>\n",
       "    </tr>\n",
       "    <tr>\n",
       "      <th>1</th>\n",
       "      <td>Marcos</td>\n",
       "      <td>3.0</td>\n",
       "      <td>3.5</td>\n",
       "      <td>1.5</td>\n",
       "      <td>5.0</td>\n",
       "      <td>3.5</td>\n",
       "      <td>3.0</td>\n",
       "    </tr>\n",
       "    <tr>\n",
       "      <th>2</th>\n",
       "      <td>Pedro</td>\n",
       "      <td>2.5</td>\n",
       "      <td>3.0</td>\n",
       "      <td>NaN</td>\n",
       "      <td>3.5</td>\n",
       "      <td>NaN</td>\n",
       "      <td>4.0</td>\n",
       "    </tr>\n",
       "    <tr>\n",
       "      <th>3</th>\n",
       "      <td>Claudia</td>\n",
       "      <td>NaN</td>\n",
       "      <td>3.5</td>\n",
       "      <td>3.0</td>\n",
       "      <td>4.0</td>\n",
       "      <td>2.5</td>\n",
       "      <td>4.5</td>\n",
       "    </tr>\n",
       "    <tr>\n",
       "      <th>4</th>\n",
       "      <td>Adriano</td>\n",
       "      <td>3.0</td>\n",
       "      <td>4.0</td>\n",
       "      <td>2.0</td>\n",
       "      <td>3.0</td>\n",
       "      <td>2.0</td>\n",
       "      <td>3.0</td>\n",
       "    </tr>\n",
       "    <tr>\n",
       "      <th>5</th>\n",
       "      <td>Janaina</td>\n",
       "      <td>3.0</td>\n",
       "      <td>4.0</td>\n",
       "      <td>NaN</td>\n",
       "      <td>5.0</td>\n",
       "      <td>3.5</td>\n",
       "      <td>3.0</td>\n",
       "    </tr>\n",
       "    <tr>\n",
       "      <th>6</th>\n",
       "      <td>Leonardo</td>\n",
       "      <td>NaN</td>\n",
       "      <td>4.5</td>\n",
       "      <td>NaN</td>\n",
       "      <td>4.0</td>\n",
       "      <td>1.0</td>\n",
       "      <td>NaN</td>\n",
       "    </tr>\n",
       "  </tbody>\n",
       "</table>\n",
       "</div>"
      ],
      "text/plain": [
       "       user  Freddy x Jason  O Ultimato Bourne  Star Trek  \\\n",
       "0       Ana             2.5                3.5        3.0   \n",
       "1    Marcos             3.0                3.5        1.5   \n",
       "2     Pedro             2.5                3.0        NaN   \n",
       "3   Claudia             NaN                3.5        3.0   \n",
       "4   Adriano             3.0                4.0        2.0   \n",
       "5   Janaina             3.0                4.0        NaN   \n",
       "6  Leonardo             NaN                4.5        NaN   \n",
       "\n",
       "   Exterminador do Futuro  Norbit  Star Wars  \n",
       "0                     3.5     2.5        3.0  \n",
       "1                     5.0     3.5        3.0  \n",
       "2                     3.5     NaN        4.0  \n",
       "3                     4.0     2.5        4.5  \n",
       "4                     3.0     2.0        3.0  \n",
       "5                     5.0     3.5        3.0  \n",
       "6                     4.0     1.0        NaN  "
      ]
     },
     "execution_count": 39,
     "metadata": {},
     "output_type": "execute_result"
    }
   ],
   "source": [
    "df_avaliacoes = pd.DataFrame.from_dict(avaliacoes).T.reset_index().rename(columns={\"index\": \"user\"})\n",
    "print(df_avaliacoes.shape)\n",
    "df_avaliacoes"
   ]
  },
  {
   "cell_type": "markdown",
   "metadata": {},
   "source": [
    "## Gráfico de dispersão"
   ]
  },
  {
   "cell_type": "code",
   "execution_count": 47,
   "metadata": {},
   "outputs": [
    {
     "data": {
      "image/png": "[encoded data removed]",
      "text/plain": [
       "<Figure size 640x480 with 1 Axes>"
      ]
     },
     "metadata": {},
     "output_type": "display_data"
    }
   ],
   "source": [
    "df_avaliacoes.plot(x=\"Star Trek\", y=\"Exterminador do Futuro\", kind=\"scatter\")\n",
    "\n",
    "plt.show()"
   ]
  },
  {
   "cell_type": "markdown",
   "metadata": {},
   "source": [
    "## Distância euclidiana\n",
    "\n",
    "![distancia-euclidiana](img/distanca-euclidiana.png)"
   ]
  },
  {
   "cell_type": "code",
   "execution_count": 59,
   "metadata": {},
   "outputs": [],
   "source": [
    "def distancia_euclidiana(x_i: np.array, y_i: np.array) -> float:\n",
    "    if \n",
    "    return (sum((x_i - y_i)**2))**(0.5)"
   ]
  },
  {
   "cell_type": "markdown",
   "metadata": {},
   "source": [
    "Vamos ver com quem a Ana é mais parecida."
   ]
  },
  {
   "cell_type": "code",
   "execution_count": 60,
   "metadata": {},
   "outputs": [
    {
     "data": {
      "text/plain": [
       "0.5"
      ]
     },
     "execution_count": 60,
     "metadata": {},
     "output_type": "execute_result"
    }
   ],
   "source": [
    "# Ana (x), Claudia (y)\n",
    "\n",
    "x_i = np.array([3., 3.5]) # start trek, exterminador\n",
    "y_i = np.array([3., 4.])\n",
    "\n",
    "\n",
    "distancia_euclidiana(x_i, y_i)"
   ]
  },
  {
   "cell_type": "code",
   "execution_count": 61,
   "metadata": {},
   "outputs": [
    {
     "data": {
      "text/plain": [
       "2.1213203435596424"
      ]
     },
     "execution_count": 61,
     "metadata": {},
     "output_type": "execute_result"
    }
   ],
   "source": [
    "# Ana (x), Marcos (y)\n",
    "\n",
    "x_i = np.array([3., 3.5]) # start trek, exterminador\n",
    "y_i = np.array([1.5, 5.])\n",
    "\n",
    "\n",
    "distancia_euclidiana(x_i, y_i)"
   ]
  },
  {
   "cell_type": "code",
   "execution_count": 62,
   "metadata": {},
   "outputs": [
    {
     "data": {
      "text/plain": [
       "1.118033988749895"
      ]
     },
     "execution_count": 62,
     "metadata": {},
     "output_type": "execute_result"
    }
   ],
   "source": [
    "# Ana (x), Adriano (y)\n",
    "\n",
    "x_i = np.array([3., 3.5]) # start trek, exterminador\n",
    "y_i = np.array([2., 3.])\n",
    "\n",
    "\n",
    "distancia_euclidiana(x_i, y_i)"
   ]
  },
  {
   "cell_type": "markdown",
   "metadata": {},
   "source": [
    "Ou seja, a Ana é mais parecido com a Claudia do que com o Adriano e com o Marcos. Perceba que para realizar esse calculo os três usuarios devem ter assistido aos mesmos filmes, nós não poderíamos comparar com o Leonardo agora pois ele não assistiu \"Star Trek\". Para comparar a Ana com o Leonardo, pegamos os filmes que ambos assistiram."
   ]
  },
  {
   "cell_type": "code",
   "execution_count": 63,
   "metadata": {},
   "outputs": [
    {
     "data": {
      "text/plain": [
       "1.8708286933869707"
      ]
     },
     "execution_count": 63,
     "metadata": {},
     "output_type": "execute_result"
    }
   ],
   "source": [
    "# Ana (x), Leonardo (y)\n",
    "\n",
    "x_i = np.array([3.5, 3.5, 2.5]) # ultimato bourne, exterminador e norbit\n",
    "y_i = np.array([4.5, 4., 1.])\n",
    "\n",
    "\n",
    "distancia_euclidiana(x_i, y_i)"
   ]
  },
  {
   "cell_type": "code",
   "execution_count": 64,
   "metadata": {},
   "outputs": [],
   "source": [
    "def similaridade(x_i: np.array, y_i: np.array) -> float:\n",
    "    return 1/(1+ distancia_euclidiana(x_i, y_i))"
   ]
  },
  {
   "cell_type": "code",
   "execution_count": 65,
   "metadata": {},
   "outputs": [
    {
     "data": {
      "text/plain": [
       "0.3483314773547883"
      ]
     },
     "execution_count": 65,
     "metadata": {},
     "output_type": "execute_result"
    }
   ],
   "source": [
    "# Ana (x), Leonardo (y)\n",
    "\n",
    "x_i = np.array([3.5, 3.5, 2.5]) # ultimato bourne, exterminador e norbit\n",
    "y_i = np.array([4.5, 4., 1.])\n",
    "\n",
    "\n",
    "similaridade(x_i, y_i)"
   ]
  },
  {
   "cell_type": "code",
   "execution_count": 66,
   "metadata": {},
   "outputs": [
    {
     "data": {
      "text/plain": [
       "0.6666666666666666"
      ]
     },
     "execution_count": 66,
     "metadata": {},
     "output_type": "execute_result"
    }
   ],
   "source": [
    "# Ana (x), Claudia (y)\n",
    "\n",
    "x_i = np.array([3., 3.5]) # start trek, exterminador\n",
    "y_i = np.array([3., 4.])\n",
    "\n",
    "\n",
    "similaridade(x_i, y_i)"
   ]
  },
  {
   "cell_type": "markdown",
   "metadata": {},
   "source": [
    "Vamos criar uma função que funcione com o DataFrame"
   ]
  },
  {
   "cell_type": "code",
   "execution_count": 84,
   "metadata": {},
   "outputs": [],
   "source": [
    "def similaridade_df(user_1: str, user_2: str) -> float:\n",
    "    df = df_avaliacoes.loc[df_avaliacoes.user.isin([user_1, user_2])]\n",
    "    df = df.dropna(axis=1)\n",
    "    \n",
    "    x_i = df.loc[df.user==user_1].drop(\"user\", axis=1).values[0]\n",
    "    y_i = df.loc[df.user==user_2].drop(\"user\", axis=1).values[0]\n",
    "\n",
    "    return similaridade(x_i, y_i)"
   ]
  },
  {
   "cell_type": "code",
   "execution_count": 92,
   "metadata": {},
   "outputs": [
    {
     "data": {
      "text/plain": [
       "array(['Ana', 'Marcos', 'Pedro', 'Claudia', 'Adriano', 'Janaina',\n",
       "       'Leonardo'], dtype=object)"
      ]
     },
     "execution_count": 92,
     "metadata": {},
     "output_type": "execute_result"
    }
   ],
   "source": [
    "usuarios =df_avaliacoes.user.unique()\n",
    "usuarios"
   ]
  },
  {
   "cell_type": "code",
   "execution_count": 85,
   "metadata": {},
   "outputs": [
    {
     "data": {
      "text/plain": [
       "0.3483314773547883"
      ]
     },
     "execution_count": 85,
     "metadata": {},
     "output_type": "execute_result"
    }
   ],
   "source": [
    "similaridade_df(\"Ana\", \"Leonardo\")"
   ]
  },
  {
   "cell_type": "markdown",
   "metadata": {},
   "source": [
    "Vamos fazer a similaridade entre todas as relações (em duplas) do banco de dados"
   ]
  },
  {
   "cell_type": "code",
   "execution_count": 101,
   "metadata": {},
   "outputs": [],
   "source": [
    "import itertools\n",
    "\n",
    "permutacoes = itertools.combinations(usuarios, 2)\n",
    "duplas = list(permutacoes)"
   ]
  },
  {
   "cell_type": "code",
   "execution_count": 126,
   "metadata": {},
   "outputs": [
    {
     "data": {
      "text/html": [
       "<div>\n",
       "<style scoped>\n",
       "    .dataframe tbody tr th:only-of-type {\n",
       "        vertical-align: middle;\n",
       "    }\n",
       "\n",
       "    .dataframe tbody tr th {\n",
       "        vertical-align: top;\n",
       "    }\n",
       "\n",
       "    .dataframe thead th {\n",
       "        text-align: right;\n",
       "    }\n",
       "</style>\n",
       "<table border=\"1\" class=\"dataframe\">\n",
       "  <thead>\n",
       "    <tr style=\"text-align: right;\">\n",
       "      <th></th>\n",
       "      <th>user_1</th>\n",
       "      <th>user_2</th>\n",
       "      <th>similaridade</th>\n",
       "    </tr>\n",
       "  </thead>\n",
       "  <tbody>\n",
       "    <tr>\n",
       "      <th>0</th>\n",
       "      <td>Ana</td>\n",
       "      <td>Marcos</td>\n",
       "      <td>0.294298</td>\n",
       "    </tr>\n",
       "    <tr>\n",
       "      <th>1</th>\n",
       "      <td>Ana</td>\n",
       "      <td>Pedro</td>\n",
       "      <td>0.472136</td>\n",
       "    </tr>\n",
       "    <tr>\n",
       "      <th>2</th>\n",
       "      <td>Ana</td>\n",
       "      <td>Claudia</td>\n",
       "      <td>0.387426</td>\n",
       "    </tr>\n",
       "    <tr>\n",
       "      <th>3</th>\n",
       "      <td>Ana</td>\n",
       "      <td>Adriano</td>\n",
       "      <td>0.414214</td>\n",
       "    </tr>\n",
       "    <tr>\n",
       "      <th>4</th>\n",
       "      <td>Ana</td>\n",
       "      <td>Janaina</td>\n",
       "      <td>0.340542</td>\n",
       "    </tr>\n",
       "    <tr>\n",
       "      <th>5</th>\n",
       "      <td>Ana</td>\n",
       "      <td>Leonardo</td>\n",
       "      <td>0.348331</td>\n",
       "    </tr>\n",
       "    <tr>\n",
       "      <th>6</th>\n",
       "      <td>Marcos</td>\n",
       "      <td>Pedro</td>\n",
       "      <td>0.340542</td>\n",
       "    </tr>\n",
       "    <tr>\n",
       "      <th>7</th>\n",
       "      <td>Marcos</td>\n",
       "      <td>Claudia</td>\n",
       "      <td>0.281729</td>\n",
       "    </tr>\n",
       "    <tr>\n",
       "      <th>8</th>\n",
       "      <td>Marcos</td>\n",
       "      <td>Adriano</td>\n",
       "      <td>0.277926</td>\n",
       "    </tr>\n",
       "    <tr>\n",
       "      <th>9</th>\n",
       "      <td>Marcos</td>\n",
       "      <td>Janaina</td>\n",
       "      <td>0.666667</td>\n",
       "    </tr>\n",
       "    <tr>\n",
       "      <th>10</th>\n",
       "      <td>Marcos</td>\n",
       "      <td>Leonardo</td>\n",
       "      <td>0.258246</td>\n",
       "    </tr>\n",
       "    <tr>\n",
       "      <th>11</th>\n",
       "      <td>Pedro</td>\n",
       "      <td>Claudia</td>\n",
       "      <td>0.535898</td>\n",
       "    </tr>\n",
       "    <tr>\n",
       "      <th>12</th>\n",
       "      <td>Pedro</td>\n",
       "      <td>Adriano</td>\n",
       "      <td>0.387426</td>\n",
       "    </tr>\n",
       "    <tr>\n",
       "      <th>13</th>\n",
       "      <td>Pedro</td>\n",
       "      <td>Janaina</td>\n",
       "      <td>0.320377</td>\n",
       "    </tr>\n",
       "    <tr>\n",
       "      <th>14</th>\n",
       "      <td>Pedro</td>\n",
       "      <td>Leonardo</td>\n",
       "      <td>0.387426</td>\n",
       "    </tr>\n",
       "    <tr>\n",
       "      <th>15</th>\n",
       "      <td>Claudia</td>\n",
       "      <td>Adriano</td>\n",
       "      <td>0.314520</td>\n",
       "    </tr>\n",
       "    <tr>\n",
       "      <th>16</th>\n",
       "      <td>Claudia</td>\n",
       "      <td>Janaina</td>\n",
       "      <td>0.320377</td>\n",
       "    </tr>\n",
       "    <tr>\n",
       "      <th>17</th>\n",
       "      <td>Claudia</td>\n",
       "      <td>Leonardo</td>\n",
       "      <td>0.356789</td>\n",
       "    </tr>\n",
       "    <tr>\n",
       "      <th>18</th>\n",
       "      <td>Adriano</td>\n",
       "      <td>Janaina</td>\n",
       "      <td>0.285714</td>\n",
       "    </tr>\n",
       "    <tr>\n",
       "      <th>19</th>\n",
       "      <td>Adriano</td>\n",
       "      <td>Leonardo</td>\n",
       "      <td>0.400000</td>\n",
       "    </tr>\n",
       "    <tr>\n",
       "      <th>20</th>\n",
       "      <td>Janaina</td>\n",
       "      <td>Leonardo</td>\n",
       "      <td>0.267479</td>\n",
       "    </tr>\n",
       "  </tbody>\n",
       "</table>\n",
       "</div>"
      ],
      "text/plain": [
       "     user_1    user_2  similaridade\n",
       "0       Ana    Marcos      0.294298\n",
       "1       Ana     Pedro      0.472136\n",
       "2       Ana   Claudia      0.387426\n",
       "3       Ana   Adriano      0.414214\n",
       "4       Ana   Janaina      0.340542\n",
       "5       Ana  Leonardo      0.348331\n",
       "6    Marcos     Pedro      0.340542\n",
       "7    Marcos   Claudia      0.281729\n",
       "8    Marcos   Adriano      0.277926\n",
       "9    Marcos   Janaina      0.666667\n",
       "10   Marcos  Leonardo      0.258246\n",
       "11    Pedro   Claudia      0.535898\n",
       "12    Pedro   Adriano      0.387426\n",
       "13    Pedro   Janaina      0.320377\n",
       "14    Pedro  Leonardo      0.387426\n",
       "15  Claudia   Adriano      0.314520\n",
       "16  Claudia   Janaina      0.320377\n",
       "17  Claudia  Leonardo      0.356789\n",
       "18  Adriano   Janaina      0.285714\n",
       "19  Adriano  Leonardo      0.400000\n",
       "20  Janaina  Leonardo      0.267479"
      ]
     },
     "execution_count": 126,
     "metadata": {},
     "output_type": "execute_result"
    }
   ],
   "source": [
    "df_resultados = pd.DataFrame(duplas, columns=[\"user_1\", \"user_2\"])\n",
    "df_resultados[\"similaridade\"] = df_resultados.apply(lambda i: similaridade_df(i[\"user_1\"], i[\"user_2\"]), axis=1)\n",
    "df_resultados"
   ]
  },
  {
   "cell_type": "code",
   "execution_count": 127,
   "metadata": {},
   "outputs": [
    {
     "data": {
      "text/html": [
       "<div>\n",
       "<style scoped>\n",
       "    .dataframe tbody tr th:only-of-type {\n",
       "        vertical-align: middle;\n",
       "    }\n",
       "\n",
       "    .dataframe tbody tr th {\n",
       "        vertical-align: top;\n",
       "    }\n",
       "\n",
       "    .dataframe thead th {\n",
       "        text-align: right;\n",
       "    }\n",
       "</style>\n",
       "<table border=\"1\" class=\"dataframe\">\n",
       "  <thead>\n",
       "    <tr style=\"text-align: right;\">\n",
       "      <th></th>\n",
       "      <th>user_1</th>\n",
       "      <th>user_2</th>\n",
       "      <th>similaridade</th>\n",
       "    </tr>\n",
       "  </thead>\n",
       "  <tbody>\n",
       "    <tr>\n",
       "      <th>9</th>\n",
       "      <td>Marcos</td>\n",
       "      <td>Janaina</td>\n",
       "      <td>0.666667</td>\n",
       "    </tr>\n",
       "  </tbody>\n",
       "</table>\n",
       "</div>"
      ],
      "text/plain": [
       "   user_1   user_2  similaridade\n",
       "9  Marcos  Janaina      0.666667"
      ]
     },
     "execution_count": 127,
     "metadata": {},
     "output_type": "execute_result"
    }
   ],
   "source": [
    "df_resultados.loc[df_resultados.similaridade==max(df_resultados.similaridade)]"
   ]
  },
  {
   "cell_type": "code",
   "execution_count": 119,
   "metadata": {},
   "outputs": [
    {
     "data": {
      "text/html": [
       "<div>\n",
       "<style scoped>\n",
       "    .dataframe tbody tr th:only-of-type {\n",
       "        vertical-align: middle;\n",
       "    }\n",
       "\n",
       "    .dataframe tbody tr th {\n",
       "        vertical-align: top;\n",
       "    }\n",
       "\n",
       "    .dataframe thead th {\n",
       "        text-align: right;\n",
       "    }\n",
       "</style>\n",
       "<table border=\"1\" class=\"dataframe\">\n",
       "  <thead>\n",
       "    <tr style=\"text-align: right;\">\n",
       "      <th></th>\n",
       "      <th>duplas</th>\n",
       "      <th>similaridade</th>\n",
       "    </tr>\n",
       "  </thead>\n",
       "  <tbody>\n",
       "    <tr>\n",
       "      <th>0</th>\n",
       "      <td>(Ana, Marcos)</td>\n",
       "      <td>0.294298</td>\n",
       "    </tr>\n",
       "  </tbody>\n",
       "</table>\n",
       "</div>"
      ],
      "text/plain": [
       "          duplas  similaridade\n",
       "0  (Ana, Marcos)      0.294298"
      ]
     },
     "execution_count": 119,
     "metadata": {},
     "output_type": "execute_result"
    }
   ],
   "source": [
    "df_resultados.loc[df_resultados.duplas==(\"Ana\", \"Marcos\")]"
   ]
  },
  {
   "cell_type": "code",
   "execution_count": 132,
   "metadata": {},
   "outputs": [
    {
     "data": {
      "text/html": [
       "<div>\n",
       "<style scoped>\n",
       "    .dataframe tbody tr th:only-of-type {\n",
       "        vertical-align: middle;\n",
       "    }\n",
       "\n",
       "    .dataframe tbody tr th {\n",
       "        vertical-align: top;\n",
       "    }\n",
       "\n",
       "    .dataframe thead th {\n",
       "        text-align: right;\n",
       "    }\n",
       "</style>\n",
       "<table border=\"1\" class=\"dataframe\">\n",
       "  <thead>\n",
       "    <tr style=\"text-align: right;\">\n",
       "      <th></th>\n",
       "      <th>user_1</th>\n",
       "      <th>user_2</th>\n",
       "      <th>similaridade</th>\n",
       "    </tr>\n",
       "  </thead>\n",
       "  <tbody>\n",
       "    <tr>\n",
       "      <th>19</th>\n",
       "      <td>Adriano</td>\n",
       "      <td>Leonardo</td>\n",
       "      <td>0.4</td>\n",
       "    </tr>\n",
       "  </tbody>\n",
       "</table>\n",
       "</div>"
      ],
      "text/plain": [
       "     user_1    user_2  similaridade\n",
       "19  Adriano  Leonardo           0.4"
      ]
     },
     "execution_count": 132,
     "metadata": {},
     "output_type": "execute_result"
    }
   ],
   "source": [
    "df_leo = df_resultados.loc[(df_resultados.user_1==\"Leonardo\") | (df_resultados.user_2==\"Leonardo\")]\n",
    "df_leo.loc[df_leo.similaridade==max(df_leo.similaridade)]"
   ]
  },
  {
   "cell_type": "markdown",
   "metadata": {},
   "source": [
    "A relação com maior similaridade é entre Marcos e Janaina e a relação em que o Leonardo apresenta maior similaridade é com o Adriano, assim, olhando a tabela abaixo poderíamos recomendar \"Freddy x Jason\" ou \"Star Wars\" para o Leonardo, eu nao reocmendaria Star Trek pois apresenta uma avaliacao baixa."
   ]
  },
  {
   "cell_type": "code",
   "execution_count": 131,
   "metadata": {},
   "outputs": [
    {
     "data": {
      "text/html": [
       "<div>\n",
       "<style scoped>\n",
       "    .dataframe tbody tr th:only-of-type {\n",
       "        vertical-align: middle;\n",
       "    }\n",
       "\n",
       "    .dataframe tbody tr th {\n",
       "        vertical-align: top;\n",
       "    }\n",
       "\n",
       "    .dataframe thead th {\n",
       "        text-align: right;\n",
       "    }\n",
       "</style>\n",
       "<table border=\"1\" class=\"dataframe\">\n",
       "  <thead>\n",
       "    <tr style=\"text-align: right;\">\n",
       "      <th></th>\n",
       "      <th>user</th>\n",
       "      <th>Freddy x Jason</th>\n",
       "      <th>O Ultimato Bourne</th>\n",
       "      <th>Star Trek</th>\n",
       "      <th>Exterminador do Futuro</th>\n",
       "      <th>Norbit</th>\n",
       "      <th>Star Wars</th>\n",
       "    </tr>\n",
       "  </thead>\n",
       "  <tbody>\n",
       "    <tr>\n",
       "      <th>0</th>\n",
       "      <td>Ana</td>\n",
       "      <td>2.5</td>\n",
       "      <td>3.5</td>\n",
       "      <td>3.0</td>\n",
       "      <td>3.5</td>\n",
       "      <td>2.5</td>\n",
       "      <td>3.0</td>\n",
       "    </tr>\n",
       "    <tr>\n",
       "      <th>1</th>\n",
       "      <td>Marcos</td>\n",
       "      <td>3.0</td>\n",
       "      <td>3.5</td>\n",
       "      <td>1.5</td>\n",
       "      <td>5.0</td>\n",
       "      <td>3.5</td>\n",
       "      <td>3.0</td>\n",
       "    </tr>\n",
       "    <tr>\n",
       "      <th>2</th>\n",
       "      <td>Pedro</td>\n",
       "      <td>2.5</td>\n",
       "      <td>3.0</td>\n",
       "      <td>NaN</td>\n",
       "      <td>3.5</td>\n",
       "      <td>NaN</td>\n",
       "      <td>4.0</td>\n",
       "    </tr>\n",
       "    <tr>\n",
       "      <th>3</th>\n",
       "      <td>Claudia</td>\n",
       "      <td>NaN</td>\n",
       "      <td>3.5</td>\n",
       "      <td>3.0</td>\n",
       "      <td>4.0</td>\n",
       "      <td>2.5</td>\n",
       "      <td>4.5</td>\n",
       "    </tr>\n",
       "    <tr>\n",
       "      <th>4</th>\n",
       "      <td>Adriano</td>\n",
       "      <td>3.0</td>\n",
       "      <td>4.0</td>\n",
       "      <td>2.0</td>\n",
       "      <td>3.0</td>\n",
       "      <td>2.0</td>\n",
       "      <td>3.0</td>\n",
       "    </tr>\n",
       "    <tr>\n",
       "      <th>5</th>\n",
       "      <td>Janaina</td>\n",
       "      <td>3.0</td>\n",
       "      <td>4.0</td>\n",
       "      <td>NaN</td>\n",
       "      <td>5.0</td>\n",
       "      <td>3.5</td>\n",
       "      <td>3.0</td>\n",
       "    </tr>\n",
       "    <tr>\n",
       "      <th>6</th>\n",
       "      <td>Leonardo</td>\n",
       "      <td>NaN</td>\n",
       "      <td>4.5</td>\n",
       "      <td>NaN</td>\n",
       "      <td>4.0</td>\n",
       "      <td>1.0</td>\n",
       "      <td>NaN</td>\n",
       "    </tr>\n",
       "  </tbody>\n",
       "</table>\n",
       "</div>"
      ],
      "text/plain": [
       "       user  Freddy x Jason  O Ultimato Bourne  Star Trek  \\\n",
       "0       Ana             2.5                3.5        3.0   \n",
       "1    Marcos             3.0                3.5        1.5   \n",
       "2     Pedro             2.5                3.0        NaN   \n",
       "3   Claudia             NaN                3.5        3.0   \n",
       "4   Adriano             3.0                4.0        2.0   \n",
       "5   Janaina             3.0                4.0        NaN   \n",
       "6  Leonardo             NaN                4.5        NaN   \n",
       "\n",
       "   Exterminador do Futuro  Norbit  Star Wars  \n",
       "0                     3.5     2.5        3.0  \n",
       "1                     5.0     3.5        3.0  \n",
       "2                     3.5     NaN        4.0  \n",
       "3                     4.0     2.5        4.5  \n",
       "4                     3.0     2.0        3.0  \n",
       "5                     5.0     3.5        3.0  \n",
       "6                     4.0     1.0        NaN  "
      ]
     },
     "execution_count": 131,
     "metadata": {},
     "output_type": "execute_result"
    }
   ],
   "source": [
    "df_avaliacoes"
   ]
  }
 ],
 "metadata": {
  "kernelspec": {
   "display_name": "Python 3",
   "language": "python",
   "name": "python3"
  },
  "language_info": {
   "codemirror_mode": {
    "name": "ipython",
    "version": 3
   },
   "file_extension": ".py",
   "mimetype": "text/x-python",
   "name": "python",
   "nbconvert_exporter": "python",
   "pygments_lexer": "ipython3",
   "version": "3.12.4"
  }
 },
 "nbformat": 4,
 "nbformat_minor": 2
}
