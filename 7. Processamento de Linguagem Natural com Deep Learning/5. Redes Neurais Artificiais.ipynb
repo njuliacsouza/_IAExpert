{
 "cells": [
  {
   "cell_type": "markdown",
   "id": "227ceb29",
   "metadata": {},
   "source": [
    "# Redes Neurais Artificiais"
   ]
  },
  {
   "cell_type": "markdown",
   "id": "e12e8594",
   "metadata": {},
   "source": [
    "## Perceptron de uma camada"
   ]
  },
  {
   "cell_type": "markdown",
   "id": "96bcd97d",
   "metadata": {},
   "source": [
    "### Neurônio artificial\n",
    "\n",
    "$$\n",
    "soma = \\sum_{i=1}^{n} x_i * w_i\n",
    "$$\n",
    "\n",
    "![neuronio arti](images/neuronio_artifical.png)\n",
    "\n",
    "**Step function** (*função de ativação*): \n",
    "- maior que zero = 1\n",
    "- caso contrário = 0"
   ]
  },
  {
   "cell_type": "markdown",
   "id": "656cfccb",
   "metadata": {},
   "source": [
    "## Rede multicamada\n",
    "\n",
    "- agora poderemos modelar problemas não linearmente separável\n",
    "$$\n",
    "soma = \\sum_{i=1}^{n} x_i * w_i\n",
    "$$\n",
    "\n",
    "\n",
    "![rede multicamada](images/rede_multi.png)\n",
    "\n",
    "**Função sigmoide** (*função de ativação*):\n",
    "![função sigmoide](images/sigmoide.png)\n"
   ]
  },
  {
   "cell_type": "markdown",
   "id": "7d72c91a",
   "metadata": {},
   "source": [
    "## Cálculo do erro\n",
    "\n",
    "**Mais simples**:\n",
    "\n",
    "$$\n",
    "erro = respostaCorreta - respostaCalculada\n",
    "$$"
   ]
  },
  {
   "cell_type": "markdown",
   "id": "e3b1fac7",
   "metadata": {},
   "source": [
    "## Descida do gradiente\n",
    "\n",
    "- calcular a derivada parcial para mover para a direção do gradiente\n",
    "    - encontrar a combinação de pesos que o erro é o menor possível\n",
    "    - gradiente é calculado para saber quanto ajustar os pesos"
   ]
  },
  {
   "cell_type": "markdown",
   "id": "99e94c56",
   "metadata": {},
   "source": [
    "## Parâmetro delta\n",
    "\n",
    "![cálculo do parametro delta](images/calculo_delta.png)\n",
    "\n",
    "$$\n",
    "deltaSaida = Erro * DerivadasSigmoide\n",
    "$$\n",
    "\n",
    "$$\n",
    "deltaEscondida = DerivadaSigmoide * peso * DeltaSaida\n",
    "$$"
   ]
  },
  {
   "cell_type": "markdown",
   "id": "a5a31c1d",
   "metadata": {},
   "source": [
    "## Ajuste dos pesos com Backpropagation\n",
    "\n",
    "![ajuste dos pesos](images/ajuste_pesos.png)"
   ]
  },
  {
   "cell_type": "markdown",
   "id": "7bac4a02",
   "metadata": {},
   "source": [
    "## Bias, erro, descida do gradiente estocástica e outros parâmetros\n",
    "\n",
    "### Bias:\n",
    "\n",
    "![bias](images/bias.png)\n",
    "\n",
    "### Mean square error (MSE) e Root mean square error (RMSE)\n",
    "\n",
    "$$\n",
    "MSE = \\frac{1}{N}\\sum_{i=1}^{N} (f_i - y_i)^2\n",
    "$$\n",
    "\n",
    "$$\n",
    "RMSE = \\sqrt{\\frac{1}{N}\\sum_{i=1}^{N} (f_i - y_i)^2}\n",
    "$$\n",
    "\n",
    "### Batch gradient descent x Stochastic grafient descent\n",
    "\n",
    "**Batch**:\n",
    "- utiliza todos os dados de uma vez para calcular os pesos\n",
    "\n",
    "**Stochastic**:\n",
    "- utiliza um dado de cada vez\n",
    "- ajuda a prevenir os mínimos locais\n",
    "- mais rápido\n",
    "\n",
    "**Mini batch**:\n",
    "- escolhe um número de registros para rodas e atualizar os pesos\n",
    "\n",
    "### Principais parâmetros\n",
    "\n",
    "- Learning Rate\n",
    "- Batch Size\n",
    "- Epochs"
   ]
  }
 ],
 "metadata": {
  "kernelspec": {
   "display_name": "Python 3",
   "language": "python",
   "name": "python3"
  },
  "language_info": {
   "codemirror_mode": {
    "name": "ipython",
    "version": 3
   },
   "file_extension": ".py",
   "mimetype": "text/x-python",
   "name": "python",
   "nbconvert_exporter": "python",
   "pygments_lexer": "ipython3",
   "version": "3.8.5"
  }
 },
 "nbformat": 4,
 "nbformat_minor": 5
}
