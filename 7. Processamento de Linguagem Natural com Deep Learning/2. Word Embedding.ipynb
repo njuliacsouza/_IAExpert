{
 "cells": [
  {
   "cell_type": "markdown",
   "id": "6180dcda",
   "metadata": {},
   "source": [
    "#  Redes Neurais Convolucionais para PLN\n",
    "\n",
    "\n",
    "![cnn_imagens](cnn_imagens.png)\n",
    "\n",
    "- **Etapa 1:** Convolução - criação de detectores de características\n",
    "- **Etapa 2:** Max Pooling\n",
    "- **Etapa 3:** Flattening\n",
    "- **Etapa 4:** Full Connection (rede neural densa)"
   ]
  },
  {
   "cell_type": "markdown",
   "id": "1e1ee8d4",
   "metadata": {},
   "source": [
    "![imagem_e_texto](image_text_rep.png)"
   ]
  },
  {
   "cell_type": "markdown",
   "id": "456d1da9",
   "metadata": {},
   "source": [
    "Assim cada palavra é representada por um vetor."
   ]
  },
  {
   "cell_type": "markdown",
   "id": "89588446",
   "metadata": {},
   "source": [
    "## Word embedding\n",
    "\n",
    "- **representação fácil mas não efetiva**: one-hot encoding, sem relação entre as palavras"
   ]
  },
  {
   "cell_type": "markdown",
   "id": "1fdbe8d7",
   "metadata": {},
   "source": [
    "![one-hot](word_embed.png)"
   ]
  },
  {
   "cell_type": "markdown",
   "id": "6a13f7b4",
   "metadata": {},
   "source": [
    "- **word embedding**: vetor menor e leva em consideração a relação entre as palavras"
   ]
  },
  {
   "cell_type": "markdown",
   "id": "f40a3fb3",
   "metadata": {},
   "source": [
    "![word embedding](word_embed2.png)\n",
    "\n",
    "- relações matemáticas entre as palavras\n",
    "\n",
    "![word embedding](word_embed3.png)\n",
    "\n",
    "Para fazer o word embedding, passamos o `input` como one-hot encoding, geramos uma matriz de embedding para todas as palavras e então numa camada oculta geramos o *contexto* das palavras.\n",
    "\n",
    "![word embedding](word_embed4.png)"
   ]
  },
  {
   "cell_type": "markdown",
   "id": "6c77e402",
   "metadata": {},
   "source": [
    "**artigo**: https://iaexpert.academy/2019/04/12/word-embedding-transformando-palavras-em-numeros/#:~:text=Uma%20das%20ferramentas%20mais%20populares,onde%20as%20relações%20serão%20aprendidas."
   ]
  }
 ],
 "metadata": {
  "kernelspec": {
   "display_name": "Python 3",
   "language": "python",
   "name": "python3"
  },
  "language_info": {
   "codemirror_mode": {
    "name": "ipython",
    "version": 3
   },
   "file_extension": ".py",
   "mimetype": "text/x-python",
   "name": "python",
   "nbconvert_exporter": "python",
   "pygments_lexer": "ipython3",
   "version": "3.8.5"
  }
 },
 "nbformat": 4,
 "nbformat_minor": 5
}
